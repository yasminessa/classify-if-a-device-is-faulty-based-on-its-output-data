{
  "cells": [
    {
      "cell_type": "markdown",
      "metadata": {
        "id": "view-in-github",
        "colab_type": "text"
      },
      "source": [
        "<a href=\"https://colab.research.google.com/github/yasminessa/classify-if-a-device-is-faulty-based-on-its-output-data/blob/main/final_notebook.ipynb\" target=\"_parent\"><img src=\"https://colab.research.google.com/assets/colab-badge.svg\" alt=\"Open In Colab\"/></a>"
      ]
    },
    {
      "cell_type": "code",
      "execution_count": 1,
      "id": "3f9d2e74-0bd0-4b3d-a00f-99f8ec6c75a5",
      "metadata": {
        "id": "3f9d2e74-0bd0-4b3d-a00f-99f8ec6c75a5"
      },
      "outputs": [],
      "source": [
        "import random\n",
        "import warnings\n",
        "\n",
        "import matplotlib.pyplot as plt\n",
        "import missingno as mn\n",
        "import numpy as np\n",
        "import pandas as pd\n",
        "import seaborn as sns\n",
        "from lightgbm import LGBMClassifier\n",
        "from sklearn.ensemble import HistGradientBoostingClassifier, RandomForestClassifier,\n",
        "from sklearn.impute import SimpleImputer\n",
        "from sklearn.metrics import accuracy_score\n",
        "from sklearn.model_selection import StratifiedKFold, train_test_split\n",
        "from sklearn.pipeline import Pipeline\n",
        "from sklearn.preprocessing import StandardScaler\n",
        "\n",
        "plt.style.use('ggplot')\n",
        "\n",
        "\n",
        "random_state= 42\n",
        "np.random.seed(random_state)\n",
        "random.seed(random_state)\n",
        "warnings.filterwarnings('ignore')"
      ]
    },
    {
      "cell_type": "code",
      "execution_count": 2,
      "id": "5fb2088c-97d0-4466-a7e9-8b71c27ddf6e",
      "metadata": {
        "id": "5fb2088c-97d0-4466-a7e9-8b71c27ddf6e"
      },
      "outputs": [],
      "source": [
        "train = pd.read_csv('https://raw.githubusercontent.com/yasminessa/classify-if-a-device-is-faulty-based-on-its-output-data/main/train.csv')\n",
        "test = pd.read_csv('https://raw.githubusercontent.com/yasminessa/classify-if-a-device-is-faulty-based-on-its-output-data/main/test.csv')\n",
        "#ss = pd.read_csv('SampleSubmission.csv')\n",
        "ss = test.ID"
      ]
    },
    {
      "cell_type": "code",
      "execution_count": 3,
      "id": "f4c691b2-c86d-4e42-97ab-3b7b4acd3ff6",
      "metadata": {
        "id": "f4c691b2-c86d-4e42-97ab-3b7b4acd3ff6",
        "colab": {
          "base_uri": "https://localhost:8080/",
          "height": 206
        },
        "outputId": "2e0e6c4e-53a1-4d4f-c095-3c11151eded6"
      },
      "outputs": [
        {
          "output_type": "execute_result",
          "data": {
            "text/plain": [
              "                ID             Datetime  Sensor1_PM2.5  Sensor2_PM2.5  \\\n",
              "0  ID_QF0ZTQJ2SF5Q  2021-11-03 04:06:31          52.58          49.52   \n",
              "1  ID_4GTK689CNX5S  2021-11-08 18:43:23          35.25          33.40   \n",
              "2  ID_DL7VVKW9U7XQ  2021-11-07 09:50:33          19.18          23.50   \n",
              "3  ID_6XQOMBXM2DG3  2022-01-01 18:55:15          19.40          15.48   \n",
              "4  ID_UQZW9ISJY9QE  2021-11-05 22:23:48          38.30          34.77   \n",
              "\n",
              "   Temperature  Relative_Humidity  Offset_fault  \n",
              "0         17.4               96.0             0  \n",
              "1         25.0               75.0             0  \n",
              "2         24.9               75.0             0  \n",
              "3         24.9               70.0             0  \n",
              "4         20.9               89.0             0  "
            ],
            "text/html": [
              "\n",
              "  <div id=\"df-406471b8-ac52-400e-a907-24d5b1feacf2\">\n",
              "    <div class=\"colab-df-container\">\n",
              "      <div>\n",
              "<style scoped>\n",
              "    .dataframe tbody tr th:only-of-type {\n",
              "        vertical-align: middle;\n",
              "    }\n",
              "\n",
              "    .dataframe tbody tr th {\n",
              "        vertical-align: top;\n",
              "    }\n",
              "\n",
              "    .dataframe thead th {\n",
              "        text-align: right;\n",
              "    }\n",
              "</style>\n",
              "<table border=\"1\" class=\"dataframe\">\n",
              "  <thead>\n",
              "    <tr style=\"text-align: right;\">\n",
              "      <th></th>\n",
              "      <th>ID</th>\n",
              "      <th>Datetime</th>\n",
              "      <th>Sensor1_PM2.5</th>\n",
              "      <th>Sensor2_PM2.5</th>\n",
              "      <th>Temperature</th>\n",
              "      <th>Relative_Humidity</th>\n",
              "      <th>Offset_fault</th>\n",
              "    </tr>\n",
              "  </thead>\n",
              "  <tbody>\n",
              "    <tr>\n",
              "      <th>0</th>\n",
              "      <td>ID_QF0ZTQJ2SF5Q</td>\n",
              "      <td>2021-11-03 04:06:31</td>\n",
              "      <td>52.58</td>\n",
              "      <td>49.52</td>\n",
              "      <td>17.4</td>\n",
              "      <td>96.0</td>\n",
              "      <td>0</td>\n",
              "    </tr>\n",
              "    <tr>\n",
              "      <th>1</th>\n",
              "      <td>ID_4GTK689CNX5S</td>\n",
              "      <td>2021-11-08 18:43:23</td>\n",
              "      <td>35.25</td>\n",
              "      <td>33.40</td>\n",
              "      <td>25.0</td>\n",
              "      <td>75.0</td>\n",
              "      <td>0</td>\n",
              "    </tr>\n",
              "    <tr>\n",
              "      <th>2</th>\n",
              "      <td>ID_DL7VVKW9U7XQ</td>\n",
              "      <td>2021-11-07 09:50:33</td>\n",
              "      <td>19.18</td>\n",
              "      <td>23.50</td>\n",
              "      <td>24.9</td>\n",
              "      <td>75.0</td>\n",
              "      <td>0</td>\n",
              "    </tr>\n",
              "    <tr>\n",
              "      <th>3</th>\n",
              "      <td>ID_6XQOMBXM2DG3</td>\n",
              "      <td>2022-01-01 18:55:15</td>\n",
              "      <td>19.40</td>\n",
              "      <td>15.48</td>\n",
              "      <td>24.9</td>\n",
              "      <td>70.0</td>\n",
              "      <td>0</td>\n",
              "    </tr>\n",
              "    <tr>\n",
              "      <th>4</th>\n",
              "      <td>ID_UQZW9ISJY9QE</td>\n",
              "      <td>2021-11-05 22:23:48</td>\n",
              "      <td>38.30</td>\n",
              "      <td>34.77</td>\n",
              "      <td>20.9</td>\n",
              "      <td>89.0</td>\n",
              "      <td>0</td>\n",
              "    </tr>\n",
              "  </tbody>\n",
              "</table>\n",
              "</div>\n",
              "      <button class=\"colab-df-convert\" onclick=\"convertToInteractive('df-406471b8-ac52-400e-a907-24d5b1feacf2')\"\n",
              "              title=\"Convert this dataframe to an interactive table.\"\n",
              "              style=\"display:none;\">\n",
              "        \n",
              "  <svg xmlns=\"http://www.w3.org/2000/svg\" height=\"24px\"viewBox=\"0 0 24 24\"\n",
              "       width=\"24px\">\n",
              "    <path d=\"M0 0h24v24H0V0z\" fill=\"none\"/>\n",
              "    <path d=\"M18.56 5.44l.94 2.06.94-2.06 2.06-.94-2.06-.94-.94-2.06-.94 2.06-2.06.94zm-11 1L8.5 8.5l.94-2.06 2.06-.94-2.06-.94L8.5 2.5l-.94 2.06-2.06.94zm10 10l.94 2.06.94-2.06 2.06-.94-2.06-.94-.94-2.06-.94 2.06-2.06.94z\"/><path d=\"M17.41 7.96l-1.37-1.37c-.4-.4-.92-.59-1.43-.59-.52 0-1.04.2-1.43.59L10.3 9.45l-7.72 7.72c-.78.78-.78 2.05 0 2.83L4 21.41c.39.39.9.59 1.41.59.51 0 1.02-.2 1.41-.59l7.78-7.78 2.81-2.81c.8-.78.8-2.07 0-2.86zM5.41 20L4 18.59l7.72-7.72 1.47 1.35L5.41 20z\"/>\n",
              "  </svg>\n",
              "      </button>\n",
              "      \n",
              "  <style>\n",
              "    .colab-df-container {\n",
              "      display:flex;\n",
              "      flex-wrap:wrap;\n",
              "      gap: 12px;\n",
              "    }\n",
              "\n",
              "    .colab-df-convert {\n",
              "      background-color: #E8F0FE;\n",
              "      border: none;\n",
              "      border-radius: 50%;\n",
              "      cursor: pointer;\n",
              "      display: none;\n",
              "      fill: #1967D2;\n",
              "      height: 32px;\n",
              "      padding: 0 0 0 0;\n",
              "      width: 32px;\n",
              "    }\n",
              "\n",
              "    .colab-df-convert:hover {\n",
              "      background-color: #E2EBFA;\n",
              "      box-shadow: 0px 1px 2px rgba(60, 64, 67, 0.3), 0px 1px 3px 1px rgba(60, 64, 67, 0.15);\n",
              "      fill: #174EA6;\n",
              "    }\n",
              "\n",
              "    [theme=dark] .colab-df-convert {\n",
              "      background-color: #3B4455;\n",
              "      fill: #D2E3FC;\n",
              "    }\n",
              "\n",
              "    [theme=dark] .colab-df-convert:hover {\n",
              "      background-color: #434B5C;\n",
              "      box-shadow: 0px 1px 3px 1px rgba(0, 0, 0, 0.15);\n",
              "      filter: drop-shadow(0px 1px 2px rgba(0, 0, 0, 0.3));\n",
              "      fill: #FFFFFF;\n",
              "    }\n",
              "  </style>\n",
              "\n",
              "      <script>\n",
              "        const buttonEl =\n",
              "          document.querySelector('#df-406471b8-ac52-400e-a907-24d5b1feacf2 button.colab-df-convert');\n",
              "        buttonEl.style.display =\n",
              "          google.colab.kernel.accessAllowed ? 'block' : 'none';\n",
              "\n",
              "        async function convertToInteractive(key) {\n",
              "          const element = document.querySelector('#df-406471b8-ac52-400e-a907-24d5b1feacf2');\n",
              "          const dataTable =\n",
              "            await google.colab.kernel.invokeFunction('convertToInteractive',\n",
              "                                                     [key], {});\n",
              "          if (!dataTable) return;\n",
              "\n",
              "          const docLinkHtml = 'Like what you see? Visit the ' +\n",
              "            '<a target=\"_blank\" href=https://colab.research.google.com/notebooks/data_table.ipynb>data table notebook</a>'\n",
              "            + ' to learn more about interactive tables.';\n",
              "          element.innerHTML = '';\n",
              "          dataTable['output_type'] = 'display_data';\n",
              "          await google.colab.output.renderOutput(dataTable, element);\n",
              "          const docLink = document.createElement('div');\n",
              "          docLink.innerHTML = docLinkHtml;\n",
              "          element.appendChild(docLink);\n",
              "        }\n",
              "      </script>\n",
              "    </div>\n",
              "  </div>\n",
              "  "
            ]
          },
          "metadata": {},
          "execution_count": 3
        }
      ],
      "source": [
        "train.head()"
      ]
    },
    {
      "cell_type": "code",
      "source": [
        "train.tail()"
      ],
      "metadata": {
        "colab": {
          "base_uri": "https://localhost:8080/",
          "height": 270
        },
        "id": "THQbxXDYwvxV",
        "outputId": "81d4f455-9de0-471c-8ced-e7ea32c42845"
      },
      "id": "THQbxXDYwvxV",
      "execution_count": 40,
      "outputs": [
        {
          "output_type": "execute_result",
          "data": {
            "text/plain": [
              "        Sensor1_PM2.5  Sensor2_PM2.5  Temperature  Relative_Humidity  \\\n",
              "297172          36.40          37.77         28.6               62.0   \n",
              "297173          50.12          40.63         21.6               86.0   \n",
              "297174          53.68          45.23         20.2               94.0   \n",
              "297175          96.45         114.67         20.6               93.0   \n",
              "297176          44.27          36.77         17.3               95.0   \n",
              "\n",
              "        Offset_fault  Datetime_day  Datetime_month  Datetime_year  \\\n",
              "297172             0            19              11           2021   \n",
              "297173             1            22              11           2021   \n",
              "297174             1             5              11           2021   \n",
              "297175             0            23              11           2021   \n",
              "297176             1            23              11           2021   \n",
              "\n",
              "        Datetime_hour  Datetime_minute  Datetime_dayofweek  is_morning  \\\n",
              "297172             12               32                   4       False   \n",
              "297173              1               22                   0       False   \n",
              "297174              1               27                   4       False   \n",
              "297175             22                9                   1       False   \n",
              "297176              6               33                   1        True   \n",
              "\n",
              "        is_afternoon  is_evening  is_night  \n",
              "297172          True       False     False  \n",
              "297173         False       False      True  \n",
              "297174         False       False      True  \n",
              "297175         False        True     False  \n",
              "297176         False       False     False  "
            ],
            "text/html": [
              "\n",
              "  <div id=\"df-192c00f4-4a28-41bd-bb72-d26763012111\">\n",
              "    <div class=\"colab-df-container\">\n",
              "      <div>\n",
              "<style scoped>\n",
              "    .dataframe tbody tr th:only-of-type {\n",
              "        vertical-align: middle;\n",
              "    }\n",
              "\n",
              "    .dataframe tbody tr th {\n",
              "        vertical-align: top;\n",
              "    }\n",
              "\n",
              "    .dataframe thead th {\n",
              "        text-align: right;\n",
              "    }\n",
              "</style>\n",
              "<table border=\"1\" class=\"dataframe\">\n",
              "  <thead>\n",
              "    <tr style=\"text-align: right;\">\n",
              "      <th></th>\n",
              "      <th>Sensor1_PM2.5</th>\n",
              "      <th>Sensor2_PM2.5</th>\n",
              "      <th>Temperature</th>\n",
              "      <th>Relative_Humidity</th>\n",
              "      <th>Offset_fault</th>\n",
              "      <th>Datetime_day</th>\n",
              "      <th>Datetime_month</th>\n",
              "      <th>Datetime_year</th>\n",
              "      <th>Datetime_hour</th>\n",
              "      <th>Datetime_minute</th>\n",
              "      <th>Datetime_dayofweek</th>\n",
              "      <th>is_morning</th>\n",
              "      <th>is_afternoon</th>\n",
              "      <th>is_evening</th>\n",
              "      <th>is_night</th>\n",
              "    </tr>\n",
              "  </thead>\n",
              "  <tbody>\n",
              "    <tr>\n",
              "      <th>297172</th>\n",
              "      <td>36.40</td>\n",
              "      <td>37.77</td>\n",
              "      <td>28.6</td>\n",
              "      <td>62.0</td>\n",
              "      <td>0</td>\n",
              "      <td>19</td>\n",
              "      <td>11</td>\n",
              "      <td>2021</td>\n",
              "      <td>12</td>\n",
              "      <td>32</td>\n",
              "      <td>4</td>\n",
              "      <td>False</td>\n",
              "      <td>True</td>\n",
              "      <td>False</td>\n",
              "      <td>False</td>\n",
              "    </tr>\n",
              "    <tr>\n",
              "      <th>297173</th>\n",
              "      <td>50.12</td>\n",
              "      <td>40.63</td>\n",
              "      <td>21.6</td>\n",
              "      <td>86.0</td>\n",
              "      <td>1</td>\n",
              "      <td>22</td>\n",
              "      <td>11</td>\n",
              "      <td>2021</td>\n",
              "      <td>1</td>\n",
              "      <td>22</td>\n",
              "      <td>0</td>\n",
              "      <td>False</td>\n",
              "      <td>False</td>\n",
              "      <td>False</td>\n",
              "      <td>True</td>\n",
              "    </tr>\n",
              "    <tr>\n",
              "      <th>297174</th>\n",
              "      <td>53.68</td>\n",
              "      <td>45.23</td>\n",
              "      <td>20.2</td>\n",
              "      <td>94.0</td>\n",
              "      <td>1</td>\n",
              "      <td>5</td>\n",
              "      <td>11</td>\n",
              "      <td>2021</td>\n",
              "      <td>1</td>\n",
              "      <td>27</td>\n",
              "      <td>4</td>\n",
              "      <td>False</td>\n",
              "      <td>False</td>\n",
              "      <td>False</td>\n",
              "      <td>True</td>\n",
              "    </tr>\n",
              "    <tr>\n",
              "      <th>297175</th>\n",
              "      <td>96.45</td>\n",
              "      <td>114.67</td>\n",
              "      <td>20.6</td>\n",
              "      <td>93.0</td>\n",
              "      <td>0</td>\n",
              "      <td>23</td>\n",
              "      <td>11</td>\n",
              "      <td>2021</td>\n",
              "      <td>22</td>\n",
              "      <td>9</td>\n",
              "      <td>1</td>\n",
              "      <td>False</td>\n",
              "      <td>False</td>\n",
              "      <td>True</td>\n",
              "      <td>False</td>\n",
              "    </tr>\n",
              "    <tr>\n",
              "      <th>297176</th>\n",
              "      <td>44.27</td>\n",
              "      <td>36.77</td>\n",
              "      <td>17.3</td>\n",
              "      <td>95.0</td>\n",
              "      <td>1</td>\n",
              "      <td>23</td>\n",
              "      <td>11</td>\n",
              "      <td>2021</td>\n",
              "      <td>6</td>\n",
              "      <td>33</td>\n",
              "      <td>1</td>\n",
              "      <td>True</td>\n",
              "      <td>False</td>\n",
              "      <td>False</td>\n",
              "      <td>False</td>\n",
              "    </tr>\n",
              "  </tbody>\n",
              "</table>\n",
              "</div>\n",
              "      <button class=\"colab-df-convert\" onclick=\"convertToInteractive('df-192c00f4-4a28-41bd-bb72-d26763012111')\"\n",
              "              title=\"Convert this dataframe to an interactive table.\"\n",
              "              style=\"display:none;\">\n",
              "        \n",
              "  <svg xmlns=\"http://www.w3.org/2000/svg\" height=\"24px\"viewBox=\"0 0 24 24\"\n",
              "       width=\"24px\">\n",
              "    <path d=\"M0 0h24v24H0V0z\" fill=\"none\"/>\n",
              "    <path d=\"M18.56 5.44l.94 2.06.94-2.06 2.06-.94-2.06-.94-.94-2.06-.94 2.06-2.06.94zm-11 1L8.5 8.5l.94-2.06 2.06-.94-2.06-.94L8.5 2.5l-.94 2.06-2.06.94zm10 10l.94 2.06.94-2.06 2.06-.94-2.06-.94-.94-2.06-.94 2.06-2.06.94z\"/><path d=\"M17.41 7.96l-1.37-1.37c-.4-.4-.92-.59-1.43-.59-.52 0-1.04.2-1.43.59L10.3 9.45l-7.72 7.72c-.78.78-.78 2.05 0 2.83L4 21.41c.39.39.9.59 1.41.59.51 0 1.02-.2 1.41-.59l7.78-7.78 2.81-2.81c.8-.78.8-2.07 0-2.86zM5.41 20L4 18.59l7.72-7.72 1.47 1.35L5.41 20z\"/>\n",
              "  </svg>\n",
              "      </button>\n",
              "      \n",
              "  <style>\n",
              "    .colab-df-container {\n",
              "      display:flex;\n",
              "      flex-wrap:wrap;\n",
              "      gap: 12px;\n",
              "    }\n",
              "\n",
              "    .colab-df-convert {\n",
              "      background-color: #E8F0FE;\n",
              "      border: none;\n",
              "      border-radius: 50%;\n",
              "      cursor: pointer;\n",
              "      display: none;\n",
              "      fill: #1967D2;\n",
              "      height: 32px;\n",
              "      padding: 0 0 0 0;\n",
              "      width: 32px;\n",
              "    }\n",
              "\n",
              "    .colab-df-convert:hover {\n",
              "      background-color: #E2EBFA;\n",
              "      box-shadow: 0px 1px 2px rgba(60, 64, 67, 0.3), 0px 1px 3px 1px rgba(60, 64, 67, 0.15);\n",
              "      fill: #174EA6;\n",
              "    }\n",
              "\n",
              "    [theme=dark] .colab-df-convert {\n",
              "      background-color: #3B4455;\n",
              "      fill: #D2E3FC;\n",
              "    }\n",
              "\n",
              "    [theme=dark] .colab-df-convert:hover {\n",
              "      background-color: #434B5C;\n",
              "      box-shadow: 0px 1px 3px 1px rgba(0, 0, 0, 0.15);\n",
              "      filter: drop-shadow(0px 1px 2px rgba(0, 0, 0, 0.3));\n",
              "      fill: #FFFFFF;\n",
              "    }\n",
              "  </style>\n",
              "\n",
              "      <script>\n",
              "        const buttonEl =\n",
              "          document.querySelector('#df-192c00f4-4a28-41bd-bb72-d26763012111 button.colab-df-convert');\n",
              "        buttonEl.style.display =\n",
              "          google.colab.kernel.accessAllowed ? 'block' : 'none';\n",
              "\n",
              "        async function convertToInteractive(key) {\n",
              "          const element = document.querySelector('#df-192c00f4-4a28-41bd-bb72-d26763012111');\n",
              "          const dataTable =\n",
              "            await google.colab.kernel.invokeFunction('convertToInteractive',\n",
              "                                                     [key], {});\n",
              "          if (!dataTable) return;\n",
              "\n",
              "          const docLinkHtml = 'Like what you see? Visit the ' +\n",
              "            '<a target=\"_blank\" href=https://colab.research.google.com/notebooks/data_table.ipynb>data table notebook</a>'\n",
              "            + ' to learn more about interactive tables.';\n",
              "          element.innerHTML = '';\n",
              "          dataTable['output_type'] = 'display_data';\n",
              "          await google.colab.output.renderOutput(dataTable, element);\n",
              "          const docLink = document.createElement('div');\n",
              "          docLink.innerHTML = docLinkHtml;\n",
              "          element.appendChild(docLink);\n",
              "        }\n",
              "      </script>\n",
              "    </div>\n",
              "  </div>\n",
              "  "
            ]
          },
          "metadata": {},
          "execution_count": 40
        }
      ]
    },
    {
      "cell_type": "code",
      "execution_count": 4,
      "id": "a55554da-d3c9-4093-9111-52df375407b8",
      "metadata": {
        "id": "a55554da-d3c9-4093-9111-52df375407b8",
        "colab": {
          "base_uri": "https://localhost:8080/",
          "height": 206
        },
        "outputId": "17eb2e54-dc4a-4203-b154-fd0091b59ebc"
      },
      "outputs": [
        {
          "output_type": "execute_result",
          "data": {
            "text/plain": [
              "                ID             Datetime  Sensor1_PM2.5  Sensor2_PM2.5  \\\n",
              "0  ID_STL3V9B2OU12  2022-01-28 08:49:41          90.75         114.78   \n",
              "1  ID_U2EKAY4SGA94  2022-02-16 21:30:17          56.03          52.18   \n",
              "2  ID_UJFLEWQR0U4N  2022-01-24 17:57:18         387.35         346.73   \n",
              "3  ID_S2C2GPGA4R5I  2022-01-31 07:07:09          63.17          83.85   \n",
              "4  ID_5V2C2ZL221H8  2022-01-31 00:37:05          69.23          53.07   \n",
              "\n",
              "   Temperature  Relative_Humidity  \n",
              "0         22.2               56.0  \n",
              "1          NaN                NaN  \n",
              "2         28.1               63.0  \n",
              "3         21.6               82.0  \n",
              "4         22.7               80.0  "
            ],
            "text/html": [
              "\n",
              "  <div id=\"df-328a8dbe-4ab7-4e8f-8f9f-031e4763a7de\">\n",
              "    <div class=\"colab-df-container\">\n",
              "      <div>\n",
              "<style scoped>\n",
              "    .dataframe tbody tr th:only-of-type {\n",
              "        vertical-align: middle;\n",
              "    }\n",
              "\n",
              "    .dataframe tbody tr th {\n",
              "        vertical-align: top;\n",
              "    }\n",
              "\n",
              "    .dataframe thead th {\n",
              "        text-align: right;\n",
              "    }\n",
              "</style>\n",
              "<table border=\"1\" class=\"dataframe\">\n",
              "  <thead>\n",
              "    <tr style=\"text-align: right;\">\n",
              "      <th></th>\n",
              "      <th>ID</th>\n",
              "      <th>Datetime</th>\n",
              "      <th>Sensor1_PM2.5</th>\n",
              "      <th>Sensor2_PM2.5</th>\n",
              "      <th>Temperature</th>\n",
              "      <th>Relative_Humidity</th>\n",
              "    </tr>\n",
              "  </thead>\n",
              "  <tbody>\n",
              "    <tr>\n",
              "      <th>0</th>\n",
              "      <td>ID_STL3V9B2OU12</td>\n",
              "      <td>2022-01-28 08:49:41</td>\n",
              "      <td>90.75</td>\n",
              "      <td>114.78</td>\n",
              "      <td>22.2</td>\n",
              "      <td>56.0</td>\n",
              "    </tr>\n",
              "    <tr>\n",
              "      <th>1</th>\n",
              "      <td>ID_U2EKAY4SGA94</td>\n",
              "      <td>2022-02-16 21:30:17</td>\n",
              "      <td>56.03</td>\n",
              "      <td>52.18</td>\n",
              "      <td>NaN</td>\n",
              "      <td>NaN</td>\n",
              "    </tr>\n",
              "    <tr>\n",
              "      <th>2</th>\n",
              "      <td>ID_UJFLEWQR0U4N</td>\n",
              "      <td>2022-01-24 17:57:18</td>\n",
              "      <td>387.35</td>\n",
              "      <td>346.73</td>\n",
              "      <td>28.1</td>\n",
              "      <td>63.0</td>\n",
              "    </tr>\n",
              "    <tr>\n",
              "      <th>3</th>\n",
              "      <td>ID_S2C2GPGA4R5I</td>\n",
              "      <td>2022-01-31 07:07:09</td>\n",
              "      <td>63.17</td>\n",
              "      <td>83.85</td>\n",
              "      <td>21.6</td>\n",
              "      <td>82.0</td>\n",
              "    </tr>\n",
              "    <tr>\n",
              "      <th>4</th>\n",
              "      <td>ID_5V2C2ZL221H8</td>\n",
              "      <td>2022-01-31 00:37:05</td>\n",
              "      <td>69.23</td>\n",
              "      <td>53.07</td>\n",
              "      <td>22.7</td>\n",
              "      <td>80.0</td>\n",
              "    </tr>\n",
              "  </tbody>\n",
              "</table>\n",
              "</div>\n",
              "      <button class=\"colab-df-convert\" onclick=\"convertToInteractive('df-328a8dbe-4ab7-4e8f-8f9f-031e4763a7de')\"\n",
              "              title=\"Convert this dataframe to an interactive table.\"\n",
              "              style=\"display:none;\">\n",
              "        \n",
              "  <svg xmlns=\"http://www.w3.org/2000/svg\" height=\"24px\"viewBox=\"0 0 24 24\"\n",
              "       width=\"24px\">\n",
              "    <path d=\"M0 0h24v24H0V0z\" fill=\"none\"/>\n",
              "    <path d=\"M18.56 5.44l.94 2.06.94-2.06 2.06-.94-2.06-.94-.94-2.06-.94 2.06-2.06.94zm-11 1L8.5 8.5l.94-2.06 2.06-.94-2.06-.94L8.5 2.5l-.94 2.06-2.06.94zm10 10l.94 2.06.94-2.06 2.06-.94-2.06-.94-.94-2.06-.94 2.06-2.06.94z\"/><path d=\"M17.41 7.96l-1.37-1.37c-.4-.4-.92-.59-1.43-.59-.52 0-1.04.2-1.43.59L10.3 9.45l-7.72 7.72c-.78.78-.78 2.05 0 2.83L4 21.41c.39.39.9.59 1.41.59.51 0 1.02-.2 1.41-.59l7.78-7.78 2.81-2.81c.8-.78.8-2.07 0-2.86zM5.41 20L4 18.59l7.72-7.72 1.47 1.35L5.41 20z\"/>\n",
              "  </svg>\n",
              "      </button>\n",
              "      \n",
              "  <style>\n",
              "    .colab-df-container {\n",
              "      display:flex;\n",
              "      flex-wrap:wrap;\n",
              "      gap: 12px;\n",
              "    }\n",
              "\n",
              "    .colab-df-convert {\n",
              "      background-color: #E8F0FE;\n",
              "      border: none;\n",
              "      border-radius: 50%;\n",
              "      cursor: pointer;\n",
              "      display: none;\n",
              "      fill: #1967D2;\n",
              "      height: 32px;\n",
              "      padding: 0 0 0 0;\n",
              "      width: 32px;\n",
              "    }\n",
              "\n",
              "    .colab-df-convert:hover {\n",
              "      background-color: #E2EBFA;\n",
              "      box-shadow: 0px 1px 2px rgba(60, 64, 67, 0.3), 0px 1px 3px 1px rgba(60, 64, 67, 0.15);\n",
              "      fill: #174EA6;\n",
              "    }\n",
              "\n",
              "    [theme=dark] .colab-df-convert {\n",
              "      background-color: #3B4455;\n",
              "      fill: #D2E3FC;\n",
              "    }\n",
              "\n",
              "    [theme=dark] .colab-df-convert:hover {\n",
              "      background-color: #434B5C;\n",
              "      box-shadow: 0px 1px 3px 1px rgba(0, 0, 0, 0.15);\n",
              "      filter: drop-shadow(0px 1px 2px rgba(0, 0, 0, 0.3));\n",
              "      fill: #FFFFFF;\n",
              "    }\n",
              "  </style>\n",
              "\n",
              "      <script>\n",
              "        const buttonEl =\n",
              "          document.querySelector('#df-328a8dbe-4ab7-4e8f-8f9f-031e4763a7de button.colab-df-convert');\n",
              "        buttonEl.style.display =\n",
              "          google.colab.kernel.accessAllowed ? 'block' : 'none';\n",
              "\n",
              "        async function convertToInteractive(key) {\n",
              "          const element = document.querySelector('#df-328a8dbe-4ab7-4e8f-8f9f-031e4763a7de');\n",
              "          const dataTable =\n",
              "            await google.colab.kernel.invokeFunction('convertToInteractive',\n",
              "                                                     [key], {});\n",
              "          if (!dataTable) return;\n",
              "\n",
              "          const docLinkHtml = 'Like what you see? Visit the ' +\n",
              "            '<a target=\"_blank\" href=https://colab.research.google.com/notebooks/data_table.ipynb>data table notebook</a>'\n",
              "            + ' to learn more about interactive tables.';\n",
              "          element.innerHTML = '';\n",
              "          dataTable['output_type'] = 'display_data';\n",
              "          await google.colab.output.renderOutput(dataTable, element);\n",
              "          const docLink = document.createElement('div');\n",
              "          docLink.innerHTML = docLinkHtml;\n",
              "          element.appendChild(docLink);\n",
              "        }\n",
              "      </script>\n",
              "    </div>\n",
              "  </div>\n",
              "  "
            ]
          },
          "metadata": {},
          "execution_count": 4
        }
      ],
      "source": [
        "test.head()"
      ]
    },
    {
      "cell_type": "code",
      "execution_count": 5,
      "id": "f9ba592a-5cc9-451a-9ec8-5b355708f426",
      "metadata": {
        "id": "f9ba592a-5cc9-451a-9ec8-5b355708f426"
      },
      "outputs": [],
      "source": [
        "# ss.head()"
      ]
    },
    {
      "cell_type": "code",
      "execution_count": 6,
      "id": "3cc0f377-beea-4ad2-8df4-eba6317c00b9",
      "metadata": {
        "id": "3cc0f377-beea-4ad2-8df4-eba6317c00b9",
        "colab": {
          "base_uri": "https://localhost:8080/"
        },
        "outputId": "a2849b0b-1f48-48ac-c585-8123ac3aa872"
      },
      "outputs": [
        {
          "output_type": "stream",
          "name": "stdout",
          "text": [
            "<class 'pandas.core.frame.DataFrame'>\n",
            "RangeIndex: 297177 entries, 0 to 297176\n",
            "Data columns (total 7 columns):\n",
            " #   Column             Non-Null Count   Dtype  \n",
            "---  ------             --------------   -----  \n",
            " 0   ID                 297177 non-null  object \n",
            " 1   Datetime           297177 non-null  object \n",
            " 2   Sensor1_PM2.5      293563 non-null  float64\n",
            " 3   Sensor2_PM2.5      293563 non-null  float64\n",
            " 4   Temperature        293628 non-null  float64\n",
            " 5   Relative_Humidity  293628 non-null  float64\n",
            " 6   Offset_fault       297177 non-null  int64  \n",
            "dtypes: float64(4), int64(1), object(2)\n",
            "memory usage: 15.9+ MB\n"
          ]
        }
      ],
      "source": [
        "train.info()"
      ]
    },
    {
      "cell_type": "code",
      "execution_count": 7,
      "id": "42ea6cc8-3810-4c4b-955b-e188f0776b32",
      "metadata": {
        "id": "42ea6cc8-3810-4c4b-955b-e188f0776b32",
        "colab": {
          "base_uri": "https://localhost:8080/"
        },
        "outputId": "169c56fa-98fb-4485-a9dc-c1a4ad7f565f"
      },
      "outputs": [
        {
          "output_type": "stream",
          "name": "stdout",
          "text": [
            "<class 'pandas.core.frame.DataFrame'>\n",
            "RangeIndex: 127361 entries, 0 to 127360\n",
            "Data columns (total 6 columns):\n",
            " #   Column             Non-Null Count   Dtype  \n",
            "---  ------             --------------   -----  \n",
            " 0   ID                 127361 non-null  object \n",
            " 1   Datetime           127361 non-null  object \n",
            " 2   Sensor1_PM2.5      127361 non-null  float64\n",
            " 3   Sensor2_PM2.5      127361 non-null  float64\n",
            " 4   Temperature        39271 non-null   float64\n",
            " 5   Relative_Humidity  39271 non-null   float64\n",
            "dtypes: float64(4), object(2)\n",
            "memory usage: 5.8+ MB\n"
          ]
        }
      ],
      "source": [
        "test.info()"
      ]
    },
    {
      "cell_type": "code",
      "execution_count": 8,
      "id": "ac09fd81-134c-4a21-a98e-819cee2adba9",
      "metadata": {
        "id": "ac09fd81-134c-4a21-a98e-819cee2adba9",
        "colab": {
          "base_uri": "https://localhost:8080/",
          "height": 607
        },
        "outputId": "c0fda126-6095-4bf9-9c04-e67d8f0aa525"
      },
      "outputs": [
        {
          "output_type": "execute_result",
          "data": {
            "text/plain": [
              "<matplotlib.axes._subplots.AxesSubplot at 0x7f63ec94b1d0>"
            ]
          },
          "metadata": {},
          "execution_count": 8
        },
        {
          "output_type": "display_data",
          "data": {
            "text/plain": [
              "<Figure size 1800x720 with 2 Axes>"
            ],
            "image/png": "[encoded data removed]"
          },
          "metadata": {
            "needs_background": "light"
          }
        }
      ],
      "source": [
        "mn.matrix(train)"
      ]
    },
    {
      "cell_type": "code",
      "execution_count": 9,
      "id": "dd9aaa9b-22ea-4735-82db-147da600fc87",
      "metadata": {
        "id": "dd9aaa9b-22ea-4735-82db-147da600fc87",
        "colab": {
          "base_uri": "https://localhost:8080/",
          "height": 607
        },
        "outputId": "975ffd7b-4328-4805-80e0-ffda8d341155"
      },
      "outputs": [
        {
          "output_type": "execute_result",
          "data": {
            "text/plain": [
              "<matplotlib.axes._subplots.AxesSubplot at 0x7f63e977b690>"
            ]
          },
          "metadata": {},
          "execution_count": 9
        },
        {
          "output_type": "display_data",
          "data": {
            "text/plain": [
              "<Figure size 1800x720 with 2 Axes>"
            ],
            "image/png": "[encoded data removed]"
          },
          "metadata": {
            "needs_background": "light"
          }
        }
      ],
      "source": [
        "mn.matrix(test)"
      ]
    },
    {
      "cell_type": "code",
      "execution_count": 10,
      "id": "e2e2d358-f6cc-4381-81ec-c01f4bb530bb",
      "metadata": {
        "id": "e2e2d358-f6cc-4381-81ec-c01f4bb530bb"
      },
      "outputs": [],
      "source": [
        "train = train.drop('ID',axis=1)\n",
        "test = test.drop('ID',axis=1)"
      ]
    },
    {
      "cell_type": "code",
      "execution_count": 11,
      "id": "c42c2a9c-469d-49fe-ba73-b4c6fa4931e1",
      "metadata": {
        "id": "c42c2a9c-469d-49fe-ba73-b4c6fa4931e1",
        "colab": {
          "base_uri": "https://localhost:8080/",
          "height": 206
        },
        "outputId": "5066a5df-4218-4b51-89d0-25c1c11fa6f7"
      },
      "outputs": [
        {
          "output_type": "execute_result",
          "data": {
            "text/plain": [
              "<pandas.io.formats.style.Styler at 0x7f63f0a83c90>"
            ],
            "text/html": [
              "<style type=\"text/css\">\n",
              "#T_8fe32_row0_col1 {\n",
              "  width: 10em;\n",
              "  height: 80%;\n",
              "  background: linear-gradient(90deg,#206ff2 51.6%, transparent 51.6%);\n",
              "}\n",
              "#T_8fe32_row0_col2 {\n",
              "  background-color: #69000d;\n",
              "  color: #f1f1f1;\n",
              "}\n",
              "#T_8fe32_row0_col5 {\n",
              "  background-color: #cbd8ee;\n",
              "  color: #000000;\n",
              "}\n",
              "#T_8fe32_row1_col1 {\n",
              "  width: 10em;\n",
              "  height: 80%;\n",
              "  background: linear-gradient(90deg,#206ff2 48.3%, transparent 48.3%);\n",
              "}\n",
              "#T_8fe32_row1_col2 {\n",
              "  background-color: #67000d;\n",
              "  color: #f1f1f1;\n",
              "}\n",
              "#T_8fe32_row1_col5 {\n",
              "  background-color: #c0d4f5;\n",
              "  color: #000000;\n",
              "}\n",
              "#T_8fe32_row2_col1 {\n",
              "  width: 10em;\n",
              "  height: 80%;\n",
              "  background: linear-gradient(90deg,#206ff2 29.3%, transparent 29.3%);\n",
              "}\n",
              "#T_8fe32_row2_col2 {\n",
              "  background-color: #fee1d4;\n",
              "  color: #000000;\n",
              "}\n",
              "#T_8fe32_row2_col5 {\n",
              "  background-color: #90b2fe;\n",
              "  color: #000000;\n",
              "}\n",
              "#T_8fe32_row3_col1 {\n",
              "  width: 10em;\n",
              "  height: 80%;\n",
              "  background: linear-gradient(90deg,#206ff2 100.0%, transparent 100.0%);\n",
              "}\n",
              "#T_8fe32_row3_col2 {\n",
              "  background-color: #fa6849;\n",
              "  color: #f1f1f1;\n",
              "}\n",
              "#T_8fe32_row3_col5 {\n",
              "  background-color: #b40426;\n",
              "  color: #f1f1f1;\n",
              "}\n",
              "#T_8fe32_row4_col1 {\n",
              "  width: 10em;\n",
              "  height: 80%;\n",
              "}\n",
              "#T_8fe32_row4_col2 {\n",
              "  background-color: #fff5f0;\n",
              "  color: #000000;\n",
              "}\n",
              "#T_8fe32_row4_col5 {\n",
              "  background-color: #3b4cc0;\n",
              "  color: #f1f1f1;\n",
              "}\n",
              "</style>\n",
              "<table id=\"T_8fe32_\" class=\"dataframe\">\n",
              "  <thead>\n",
              "    <tr>\n",
              "      <th class=\"blank level0\" >&nbsp;</th>\n",
              "      <th class=\"col_heading level0 col0\" >count</th>\n",
              "      <th class=\"col_heading level0 col1\" >mean</th>\n",
              "      <th class=\"col_heading level0 col2\" >std</th>\n",
              "      <th class=\"col_heading level0 col3\" >min</th>\n",
              "      <th class=\"col_heading level0 col4\" >25%</th>\n",
              "      <th class=\"col_heading level0 col5\" >50%</th>\n",
              "      <th class=\"col_heading level0 col6\" >75%</th>\n",
              "      <th class=\"col_heading level0 col7\" >max</th>\n",
              "    </tr>\n",
              "  </thead>\n",
              "  <tbody>\n",
              "    <tr>\n",
              "      <th id=\"T_8fe32_level0_row0\" class=\"row_heading level0 row0\" >Sensor1_PM2.5</th>\n",
              "      <td id=\"T_8fe32_row0_col0\" class=\"data row0 col0\" >293563.000000</td>\n",
              "      <td id=\"T_8fe32_row0_col1\" class=\"data row0 col1\" >40.751195</td>\n",
              "      <td id=\"T_8fe32_row0_col2\" class=\"data row0 col2\" >28.526182</td>\n",
              "      <td id=\"T_8fe32_row0_col3\" class=\"data row0 col3\" >-9.450000</td>\n",
              "      <td id=\"T_8fe32_row0_col4\" class=\"data row0 col4\" >22.430000</td>\n",
              "      <td id=\"T_8fe32_row0_col5\" class=\"data row0 col5\" >36.470000</td>\n",
              "      <td id=\"T_8fe32_row0_col6\" class=\"data row0 col6\" >49.420000</td>\n",
              "      <td id=\"T_8fe32_row0_col7\" class=\"data row0 col7\" >997.960000</td>\n",
              "    </tr>\n",
              "    <tr>\n",
              "      <th id=\"T_8fe32_level0_row1\" class=\"row_heading level0 row1\" >Sensor2_PM2.5</th>\n",
              "      <td id=\"T_8fe32_row1_col0\" class=\"data row1 col0\" >293563.000000</td>\n",
              "      <td id=\"T_8fe32_row1_col1\" class=\"data row1 col1\" >38.183018</td>\n",
              "      <td id=\"T_8fe32_row1_col2\" class=\"data row1 col2\" >28.647761</td>\n",
              "      <td id=\"T_8fe32_row1_col3\" class=\"data row1 col3\" >-9.700000</td>\n",
              "      <td id=\"T_8fe32_row1_col4\" class=\"data row1 col4\" >19.520000</td>\n",
              "      <td id=\"T_8fe32_row1_col5\" class=\"data row1 col5\" >33.720000</td>\n",
              "      <td id=\"T_8fe32_row1_col6\" class=\"data row1 col6\" >47.570000</td>\n",
              "      <td id=\"T_8fe32_row1_col7\" class=\"data row1 col7\" >997.260000</td>\n",
              "    </tr>\n",
              "    <tr>\n",
              "      <th id=\"T_8fe32_level0_row2\" class=\"row_heading level0 row2\" >Temperature</th>\n",
              "      <td id=\"T_8fe32_row2_col0\" class=\"data row2 col0\" >293628.000000</td>\n",
              "      <td id=\"T_8fe32_row2_col1\" class=\"data row2 col1\" >23.316554</td>\n",
              "      <td id=\"T_8fe32_row2_col2\" class=\"data row2 col2\" >3.836971</td>\n",
              "      <td id=\"T_8fe32_row2_col3\" class=\"data row2 col3\" >16.700000</td>\n",
              "      <td id=\"T_8fe32_row2_col4\" class=\"data row2 col4\" >20.400000</td>\n",
              "      <td id=\"T_8fe32_row2_col5\" class=\"data row2 col5\" >21.900000</td>\n",
              "      <td id=\"T_8fe32_row2_col6\" class=\"data row2 col6\" >26.300000</td>\n",
              "      <td id=\"T_8fe32_row2_col7\" class=\"data row2 col7\" >34.900000</td>\n",
              "    </tr>\n",
              "    <tr>\n",
              "      <th id=\"T_8fe32_level0_row3\" class=\"row_heading level0 row3\" >Relative_Humidity</th>\n",
              "      <td id=\"T_8fe32_row3_col0\" class=\"data row3 col0\" >293628.000000</td>\n",
              "      <td id=\"T_8fe32_row3_col1\" class=\"data row3 col1\" >78.653623</td>\n",
              "      <td id=\"T_8fe32_row3_col2\" class=\"data row3 col2\" >14.772725</td>\n",
              "      <td id=\"T_8fe32_row3_col3\" class=\"data row3 col3\" >27.000000</td>\n",
              "      <td id=\"T_8fe32_row3_col4\" class=\"data row3 col4\" >68.000000</td>\n",
              "      <td id=\"T_8fe32_row3_col5\" class=\"data row3 col5\" >84.000000</td>\n",
              "      <td id=\"T_8fe32_row3_col6\" class=\"data row3 col6\" >91.000000</td>\n",
              "      <td id=\"T_8fe32_row3_col7\" class=\"data row3 col7\" >99.000000</td>\n",
              "    </tr>\n",
              "    <tr>\n",
              "      <th id=\"T_8fe32_level0_row4\" class=\"row_heading level0 row4\" >Offset_fault</th>\n",
              "      <td id=\"T_8fe32_row4_col0\" class=\"data row4 col0\" >297177.000000</td>\n",
              "      <td id=\"T_8fe32_row4_col1\" class=\"data row4 col1\" >0.371072</td>\n",
              "      <td id=\"T_8fe32_row4_col2\" class=\"data row4 col2\" >0.483092</td>\n",
              "      <td id=\"T_8fe32_row4_col3\" class=\"data row4 col3\" >0.000000</td>\n",
              "      <td id=\"T_8fe32_row4_col4\" class=\"data row4 col4\" >0.000000</td>\n",
              "      <td id=\"T_8fe32_row4_col5\" class=\"data row4 col5\" >0.000000</td>\n",
              "      <td id=\"T_8fe32_row4_col6\" class=\"data row4 col6\" >1.000000</td>\n",
              "      <td id=\"T_8fe32_row4_col7\" class=\"data row4 col7\" >1.000000</td>\n",
              "    </tr>\n",
              "  </tbody>\n",
              "</table>\n"
            ]
          },
          "metadata": {},
          "execution_count": 11
        }
      ],
      "source": [
        "train.loc[:, 'Sensor1_PM2.5':'Offset_fault'].describe().T.style.bar(subset=['mean'], color='#206ff2')\\\n",
        "                            .background_gradient(subset=['std'], cmap='Reds')\\\n",
        "                            .background_gradient(subset=['50%'], cmap='coolwarm')"
      ]
    },
    {
      "cell_type": "code",
      "execution_count": 12,
      "id": "84a029d1-e567-466b-ae4c-16cb1ed1cefa",
      "metadata": {
        "id": "84a029d1-e567-466b-ae4c-16cb1ed1cefa",
        "colab": {
          "base_uri": "https://localhost:8080/",
          "height": 299
        },
        "outputId": "16da0ec4-3a3c-404d-a5bb-edb77850c828"
      },
      "outputs": [
        {
          "output_type": "execute_result",
          "data": {
            "text/plain": [
              "<matplotlib.axes._subplots.AxesSubplot at 0x7f63e9914e50>"
            ]
          },
          "metadata": {},
          "execution_count": 12
        },
        {
          "output_type": "display_data",
          "data": {
            "text/plain": [
              "<Figure size 432x288 with 1 Axes>"
            ],
            "image/png": "[encoded data removed]"
          },
          "metadata": {
            "needs_background": "light"
          }
        }
      ],
      "source": [
        "### Now let's visualize \n",
        "sns.countplot(train.Offset_fault)"
      ]
    },
    {
      "cell_type": "code",
      "execution_count": 13,
      "id": "836abe05-d395-42df-8a69-862858cc7e0e",
      "metadata": {
        "id": "836abe05-d395-42df-8a69-862858cc7e0e"
      },
      "outputs": [],
      "source": [
        "# Extract day, month year and hour from the Datetime column\n",
        "# day\n",
        "def converte_dates(df):\n",
        "    \n",
        "    df['Datetime'] = pd.to_datetime(df['Datetime'])\n",
        "    \n",
        "    #\n",
        "    df['Datetime_day'] = df.Datetime.dt.day\n",
        "\n",
        "    # month\n",
        "    df['Datetime_month'] = df.Datetime.dt.month\n",
        "\n",
        "    # year\n",
        "    df['Datetime_year'] = df.Datetime.dt.year\n",
        "\n",
        "    # hour\n",
        "    df['Datetime_hour'] = df.Datetime.dt.hour\n",
        "    \n",
        "    # minute\n",
        "    df['Datetime_minute'] = df.Datetime.dt.minute\n",
        "    \n",
        "    # day of week\n",
        "    df['Datetime_dayofweek'] = df.Datetime.dt.weekday\n",
        "    \n",
        "    \n",
        "    return df\n",
        "\n",
        "\n",
        "train = converte_dates(train)\n",
        "test = converte_dates(test)"
      ]
    },
    {
      "cell_type": "code",
      "execution_count": 14,
      "id": "0ab44f97-165f-441c-8ce7-b8407be71c28",
      "metadata": {
        "id": "0ab44f97-165f-441c-8ce7-b8407be71c28"
      },
      "outputs": [],
      "source": [
        "def more_features(df):\n",
        "    df['is_morning'] = (6 <= df['Datetime_hour']) & (df['Datetime_hour'] < 12)#.median()\n",
        "    df['is_afternoon'] = (12 <= df['Datetime_hour']) & (df['Datetime_hour'] < 18)#.median()\n",
        "    df['is_evening'] = (18 <= df['Datetime_hour']) & (df['Datetime_hour'] <= 23)#.median()\n",
        "    df['is_night'] = (0 <= df['Datetime_hour']) & (df['Datetime_hour'] < 6)#.median()\n",
        "    return df\n",
        "\n",
        "\n",
        "train = more_features(train)\n",
        "test = more_features(test)"
      ]
    },
    {
      "cell_type": "code",
      "execution_count": 15,
      "id": "35c175e4-3140-44db-90fc-ad281e612785",
      "metadata": {
        "id": "35c175e4-3140-44db-90fc-ad281e612785",
        "colab": {
          "base_uri": "https://localhost:8080/",
          "height": 540
        },
        "outputId": "4c861801-56e4-42b7-b611-8acb8aa1d812"
      },
      "outputs": [
        {
          "output_type": "execute_result",
          "data": {
            "text/plain": [
              "<pandas.io.formats.style.Styler at 0x7f63e98aac50>"
            ],
            "text/html": [
              "<style type=\"text/css\">\n",
              "#T_8565c_row0_col0, #T_8565c_row1_col1, #T_8565c_row2_col2, #T_8565c_row3_col3, #T_8565c_row4_col4, #T_8565c_row5_col5, #T_8565c_row6_col6, #T_8565c_row7_col7, #T_8565c_row8_col8, #T_8565c_row9_col9, #T_8565c_row10_col10, #T_8565c_row11_col11, #T_8565c_row12_col12, #T_8565c_row13_col13, #T_8565c_row14_col14 {\n",
              "  background-color: #023858;\n",
              "  color: #f1f1f1;\n",
              "}\n",
              "#T_8565c_row0_col1, #T_8565c_row1_col0 {\n",
              "  background-color: #023f64;\n",
              "  color: #f1f1f1;\n",
              "}\n",
              "#T_8565c_row0_col2, #T_8565c_row3_col5, #T_8565c_row8_col3, #T_8565c_row9_col0 {\n",
              "  background-color: #c6cce3;\n",
              "  color: #000000;\n",
              "}\n",
              "#T_8565c_row0_col3 {\n",
              "  background-color: #2786bb;\n",
              "  color: #f1f1f1;\n",
              "}\n",
              "#T_8565c_row0_col4 {\n",
              "  background-color: #f0eaf4;\n",
              "  color: #000000;\n",
              "}\n",
              "#T_8565c_row0_col5, #T_8565c_row0_col12 {\n",
              "  background-color: #dedcec;\n",
              "  color: #000000;\n",
              "}\n",
              "#T_8565c_row0_col6 {\n",
              "  background-color: #97b7d7;\n",
              "  color: #000000;\n",
              "}\n",
              "#T_8565c_row0_col7 {\n",
              "  background-color: #4c99c5;\n",
              "  color: #f1f1f1;\n",
              "}\n",
              "#T_8565c_row0_col8, #T_8565c_row5_col12, #T_8565c_row6_col12, #T_8565c_row7_col0, #T_8565c_row9_col12, #T_8565c_row13_col0 {\n",
              "  background-color: #9ebad9;\n",
              "  color: #000000;\n",
              "}\n",
              "#T_8565c_row0_col9, #T_8565c_row1_col4, #T_8565c_row1_col9, #T_8565c_row2_col0, #T_8565c_row2_col1, #T_8565c_row2_col3, #T_8565c_row2_col9, #T_8565c_row3_col2, #T_8565c_row3_col9, #T_8565c_row3_col12, #T_8565c_row4_col9, #T_8565c_row5_col9, #T_8565c_row6_col7, #T_8565c_row6_col9, #T_8565c_row7_col5, #T_8565c_row7_col6, #T_8565c_row7_col9, #T_8565c_row7_col10, #T_8565c_row8_col9, #T_8565c_row8_col14, #T_8565c_row10_col9, #T_8565c_row11_col9, #T_8565c_row12_col9, #T_8565c_row13_col9, #T_8565c_row14_col8, #T_8565c_row14_col9, #T_8565c_row14_col11, #T_8565c_row14_col13 {\n",
              "  background-color: #fff7fb;\n",
              "  color: #000000;\n",
              "}\n",
              "#T_8565c_row0_col10, #T_8565c_row12_col1, #T_8565c_row12_col10 {\n",
              "  background-color: #fbf3f9;\n",
              "  color: #000000;\n",
              "}\n",
              "#T_8565c_row0_col11, #T_8565c_row1_col11 {\n",
              "  background-color: #bbc7e0;\n",
              "  color: #000000;\n",
              "}\n",
              "#T_8565c_row0_col13 {\n",
              "  background-color: #a8bedc;\n",
              "  color: #000000;\n",
              "}\n",
              "#T_8565c_row0_col14, #T_8565c_row4_col2, #T_8565c_row10_col3, #T_8565c_row10_col7 {\n",
              "  background-color: #79abd0;\n",
              "  color: #f1f1f1;\n",
              "}\n",
              "#T_8565c_row1_col2 {\n",
              "  background-color: #c1cae2;\n",
              "  color: #000000;\n",
              "}\n",
              "#T_8565c_row1_col3 {\n",
              "  background-color: #2d8abd;\n",
              "  color: #f1f1f1;\n",
              "}\n",
              "#T_8565c_row1_col5, #T_8565c_row2_col13, #T_8565c_row14_col12 {\n",
              "  background-color: #dddbec;\n",
              "  color: #000000;\n",
              "}\n",
              "#T_8565c_row1_col6 {\n",
              "  background-color: #99b8d8;\n",
              "  color: #000000;\n",
              "}\n",
              "#T_8565c_row1_col7 {\n",
              "  background-color: #4a98c5;\n",
              "  color: #f1f1f1;\n",
              "}\n",
              "#T_8565c_row1_col8, #T_8565c_row4_col12, #T_8565c_row7_col12, #T_8565c_row10_col12, #T_8565c_row11_col2 {\n",
              "  background-color: #9cb9d9;\n",
              "  color: #000000;\n",
              "}\n",
              "#T_8565c_row1_col10, #T_8565c_row2_col10, #T_8565c_row8_col10, #T_8565c_row9_col10, #T_8565c_row11_col10 {\n",
              "  background-color: #fbf4f9;\n",
              "  color: #000000;\n",
              "}\n",
              "#T_8565c_row1_col12, #T_8565c_row3_col8 {\n",
              "  background-color: #dad9ea;\n",
              "  color: #000000;\n",
              "}\n",
              "#T_8565c_row1_col13 {\n",
              "  background-color: #abbfdc;\n",
              "  color: #000000;\n",
              "}\n",
              "#T_8565c_row1_col14, #T_8565c_row2_col7, #T_8565c_row9_col2, #T_8565c_row9_col3, #T_8565c_row10_col2 {\n",
              "  background-color: #7bacd1;\n",
              "  color: #f1f1f1;\n",
              "}\n",
              "#T_8565c_row2_col4, #T_8565c_row4_col5, #T_8565c_row5_col4, #T_8565c_row6_col4, #T_8565c_row8_col0, #T_8565c_row8_col4, #T_8565c_row9_col5, #T_8565c_row12_col4, #T_8565c_row13_col4, #T_8565c_row13_col5, #T_8565c_row14_col5 {\n",
              "  background-color: #d2d3e7;\n",
              "  color: #000000;\n",
              "}\n",
              "#T_8565c_row2_col5, #T_8565c_row8_col1 {\n",
              "  background-color: #d5d5e8;\n",
              "  color: #000000;\n",
              "}\n",
              "#T_8565c_row2_col6 {\n",
              "  background-color: #6da6cd;\n",
              "  color: #f1f1f1;\n",
              "}\n",
              "#T_8565c_row2_col8 {\n",
              "  background-color: #2f8bbe;\n",
              "  color: #f1f1f1;\n",
              "}\n",
              "#T_8565c_row2_col11 {\n",
              "  background-color: #eae6f1;\n",
              "  color: #000000;\n",
              "}\n",
              "#T_8565c_row2_col12, #T_8565c_row8_col13 {\n",
              "  background-color: #04649e;\n",
              "  color: #f1f1f1;\n",
              "}\n",
              "#T_8565c_row2_col14 {\n",
              "  background-color: #e1dfed;\n",
              "  color: #000000;\n",
              "}\n",
              "#T_8565c_row3_col0, #T_8565c_row6_col3 {\n",
              "  background-color: #65a3cb;\n",
              "  color: #f1f1f1;\n",
              "}\n",
              "#T_8565c_row3_col1, #T_8565c_row6_col2, #T_8565c_row13_col6 {\n",
              "  background-color: #73a9cf;\n",
              "  color: #f1f1f1;\n",
              "}\n",
              "#T_8565c_row3_col4, #T_8565c_row5_col0, #T_8565c_row7_col4, #T_8565c_row14_col4 {\n",
              "  background-color: #d4d4e8;\n",
              "  color: #000000;\n",
              "}\n",
              "#T_8565c_row3_col6 {\n",
              "  background-color: #60a1ca;\n",
              "  color: #f1f1f1;\n",
              "}\n",
              "#T_8565c_row3_col7 {\n",
              "  background-color: #88b1d4;\n",
              "  color: #000000;\n",
              "}\n",
              "#T_8565c_row3_col10, #T_8565c_row12_col0 {\n",
              "  background-color: #faf3f9;\n",
              "  color: #000000;\n",
              "}\n",
              "#T_8565c_row3_col11 {\n",
              "  background-color: #9ab8d8;\n",
              "  color: #000000;\n",
              "}\n",
              "#T_8565c_row3_col13, #T_8565c_row9_col1, #T_8565c_row10_col1, #T_8565c_row10_col5 {\n",
              "  background-color: #cacee5;\n",
              "  color: #000000;\n",
              "}\n",
              "#T_8565c_row3_col14 {\n",
              "  background-color: #2383ba;\n",
              "  color: #f1f1f1;\n",
              "}\n",
              "#T_8565c_row4_col0 {\n",
              "  background-color: #e6e2ef;\n",
              "  color: #000000;\n",
              "}\n",
              "#T_8565c_row4_col1, #T_8565c_row6_col10 {\n",
              "  background-color: #f9f2f8;\n",
              "  color: #000000;\n",
              "}\n",
              "#T_8565c_row4_col3 {\n",
              "  background-color: #7dacd1;\n",
              "  color: #f1f1f1;\n",
              "}\n",
              "#T_8565c_row4_col6, #T_8565c_row8_col6, #T_8565c_row9_col6, #T_8565c_row9_col7, #T_8565c_row11_col7, #T_8565c_row12_col7, #T_8565c_row14_col7 {\n",
              "  background-color: #75a9cf;\n",
              "  color: #f1f1f1;\n",
              "}\n",
              "#T_8565c_row4_col7, #T_8565c_row8_col7, #T_8565c_row11_col6, #T_8565c_row12_col6, #T_8565c_row13_col3, #T_8565c_row14_col6 {\n",
              "  background-color: #76aad0;\n",
              "  color: #f1f1f1;\n",
              "}\n",
              "#T_8565c_row4_col8, #T_8565c_row5_col14, #T_8565c_row6_col8, #T_8565c_row7_col14, #T_8565c_row9_col8, #T_8565c_row9_col14, #T_8565c_row10_col8 {\n",
              "  background-color: #8fb4d6;\n",
              "  color: #000000;\n",
              "}\n",
              "#T_8565c_row4_col10, #T_8565c_row13_col10 {\n",
              "  background-color: #fcf4fa;\n",
              "  color: #000000;\n",
              "}\n",
              "#T_8565c_row4_col11, #T_8565c_row5_col11, #T_8565c_row5_col13, #T_8565c_row6_col11, #T_8565c_row9_col11, #T_8565c_row9_col13, #T_8565c_row10_col13, #T_8565c_row14_col2 {\n",
              "  background-color: #d0d1e6;\n",
              "  color: #000000;\n",
              "}\n",
              "#T_8565c_row4_col13, #T_8565c_row7_col11, #T_8565c_row10_col11 {\n",
              "  background-color: #ced0e6;\n",
              "  color: #000000;\n",
              "}\n",
              "#T_8565c_row4_col14, #T_8565c_row5_col8, #T_8565c_row6_col14, #T_8565c_row10_col14 {\n",
              "  background-color: #91b5d6;\n",
              "  color: #000000;\n",
              "}\n",
              "#T_8565c_row5_col1 {\n",
              "  background-color: #d7d6e9;\n",
              "  color: #000000;\n",
              "}\n",
              "#T_8565c_row5_col2 {\n",
              "  background-color: #7eadd1;\n",
              "  color: #f1f1f1;\n",
              "}\n",
              "#T_8565c_row5_col3 {\n",
              "  background-color: #6fa7ce;\n",
              "  color: #f1f1f1;\n",
              "}\n",
              "#T_8565c_row5_col6 {\n",
              "  background-color: #348ebf;\n",
              "  color: #f1f1f1;\n",
              "}\n",
              "#T_8565c_row5_col7 {\n",
              "  background-color: #b3c3de;\n",
              "  color: #000000;\n",
              "}\n",
              "#T_8565c_row5_col10 {\n",
              "  background-color: #f6eff7;\n",
              "  color: #000000;\n",
              "}\n",
              "#T_8565c_row6_col0 {\n",
              "  background-color: #e4e1ef;\n",
              "  color: #000000;\n",
              "}\n",
              "#T_8565c_row6_col1 {\n",
              "  background-color: #e9e5f1;\n",
              "  color: #000000;\n",
              "}\n",
              "#T_8565c_row6_col5, #T_8565c_row13_col2 {\n",
              "  background-color: #8bb2d4;\n",
              "  color: #000000;\n",
              "}\n",
              "#T_8565c_row6_col13 {\n",
              "  background-color: #cdd0e5;\n",
              "  color: #000000;\n",
              "}\n",
              "#T_8565c_row7_col1 {\n",
              "  background-color: #9fbad9;\n",
              "  color: #000000;\n",
              "}\n",
              "#T_8565c_row7_col2 {\n",
              "  background-color: #81aed2;\n",
              "  color: #f1f1f1;\n",
              "}\n",
              "#T_8565c_row7_col3 {\n",
              "  background-color: #8eb3d5;\n",
              "  color: #000000;\n",
              "}\n",
              "#T_8565c_row7_col8 {\n",
              "  background-color: #93b5d6;\n",
              "  color: #000000;\n",
              "}\n",
              "#T_8565c_row7_col13 {\n",
              "  background-color: #d2d2e7;\n",
              "  color: #000000;\n",
              "}\n",
              "#T_8565c_row8_col2 {\n",
              "  background-color: #2182b9;\n",
              "  color: #f1f1f1;\n",
              "}\n",
              "#T_8565c_row8_col5, #T_8565c_row9_col4, #T_8565c_row10_col4, #T_8565c_row11_col4, #T_8565c_row11_col5, #T_8565c_row11_col14, #T_8565c_row12_col5, #T_8565c_row12_col14, #T_8565c_row13_col14 {\n",
              "  background-color: #d3d4e7;\n",
              "  color: #000000;\n",
              "}\n",
              "#T_8565c_row8_col11 {\n",
              "  background-color: #f4eef6;\n",
              "  color: #000000;\n",
              "}\n",
              "#T_8565c_row8_col12 {\n",
              "  background-color: #5a9ec9;\n",
              "  color: #f1f1f1;\n",
              "}\n",
              "#T_8565c_row10_col0 {\n",
              "  background-color: #c5cce3;\n",
              "  color: #000000;\n",
              "}\n",
              "#T_8565c_row10_col6 {\n",
              "  background-color: #71a8ce;\n",
              "  color: #f1f1f1;\n",
              "}\n",
              "#T_8565c_row11_col0 {\n",
              "  background-color: #b1c2de;\n",
              "  color: #000000;\n",
              "}\n",
              "#T_8565c_row11_col1 {\n",
              "  background-color: #b7c5df;\n",
              "  color: #000000;\n",
              "}\n",
              "#T_8565c_row11_col3 {\n",
              "  background-color: #4897c4;\n",
              "  color: #f1f1f1;\n",
              "}\n",
              "#T_8565c_row11_col8 {\n",
              "  background-color: #c2cbe2;\n",
              "  color: #000000;\n",
              "}\n",
              "#T_8565c_row11_col12 {\n",
              "  background-color: #dcdaeb;\n",
              "  color: #000000;\n",
              "}\n",
              "#T_8565c_row11_col13, #T_8565c_row12_col11, #T_8565c_row12_col13, #T_8565c_row13_col11 {\n",
              "  background-color: #fef6fb;\n",
              "  color: #000000;\n",
              "}\n",
              "#T_8565c_row12_col2 {\n",
              "  background-color: #046096;\n",
              "  color: #f1f1f1;\n",
              "}\n",
              "#T_8565c_row12_col3 {\n",
              "  background-color: #e8e4f0;\n",
              "  color: #000000;\n",
              "}\n",
              "#T_8565c_row12_col8 {\n",
              "  background-color: #4e9ac6;\n",
              "  color: #f1f1f1;\n",
              "}\n",
              "#T_8565c_row13_col1 {\n",
              "  background-color: #a7bddb;\n",
              "  color: #000000;\n",
              "}\n",
              "#T_8565c_row13_col7 {\n",
              "  background-color: #78abd0;\n",
              "  color: #f1f1f1;\n",
              "}\n",
              "#T_8565c_row13_col8 {\n",
              "  background-color: #045d92;\n",
              "  color: #f1f1f1;\n",
              "}\n",
              "#T_8565c_row13_col12 {\n",
              "  background-color: #dbdaeb;\n",
              "  color: #000000;\n",
              "}\n",
              "#T_8565c_row14_col0 {\n",
              "  background-color: #adc1dd;\n",
              "  color: #000000;\n",
              "}\n",
              "#T_8565c_row14_col1 {\n",
              "  background-color: #b4c4df;\n",
              "  color: #000000;\n",
              "}\n",
              "#T_8565c_row14_col3 {\n",
              "  background-color: #187cb6;\n",
              "  color: #f1f1f1;\n",
              "}\n",
              "#T_8565c_row14_col10 {\n",
              "  background-color: #fdf5fa;\n",
              "  color: #000000;\n",
              "}\n",
              "</style>\n",
              "<table id=\"T_8565c_\" class=\"dataframe\">\n",
              "  <thead>\n",
              "    <tr>\n",
              "      <th class=\"blank level0\" >&nbsp;</th>\n",
              "      <th class=\"col_heading level0 col0\" >Sensor1_PM2.5</th>\n",
              "      <th class=\"col_heading level0 col1\" >Sensor2_PM2.5</th>\n",
              "      <th class=\"col_heading level0 col2\" >Temperature</th>\n",
              "      <th class=\"col_heading level0 col3\" >Relative_Humidity</th>\n",
              "      <th class=\"col_heading level0 col4\" >Offset_fault</th>\n",
              "      <th class=\"col_heading level0 col5\" >Datetime_day</th>\n",
              "      <th class=\"col_heading level0 col6\" >Datetime_month</th>\n",
              "      <th class=\"col_heading level0 col7\" >Datetime_year</th>\n",
              "      <th class=\"col_heading level0 col8\" >Datetime_hour</th>\n",
              "      <th class=\"col_heading level0 col9\" >Datetime_minute</th>\n",
              "      <th class=\"col_heading level0 col10\" >Datetime_dayofweek</th>\n",
              "      <th class=\"col_heading level0 col11\" >is_morning</th>\n",
              "      <th class=\"col_heading level0 col12\" >is_afternoon</th>\n",
              "      <th class=\"col_heading level0 col13\" >is_evening</th>\n",
              "      <th class=\"col_heading level0 col14\" >is_night</th>\n",
              "    </tr>\n",
              "  </thead>\n",
              "  <tbody>\n",
              "    <tr>\n",
              "      <th id=\"T_8565c_level0_row0\" class=\"row_heading level0 row0\" >Sensor1_PM2.5</th>\n",
              "      <td id=\"T_8565c_row0_col0\" class=\"data row0 col0\" >1.000000</td>\n",
              "      <td id=\"T_8565c_row0_col1\" class=\"data row0 col1\" >0.959253</td>\n",
              "      <td id=\"T_8565c_row0_col2\" class=\"data row0 col2\" >-0.390342</td>\n",
              "      <td id=\"T_8565c_row0_col3\" class=\"data row0 col3\" >0.345020</td>\n",
              "      <td id=\"T_8565c_row0_col4\" class=\"data row0 col4\" >-0.176257</td>\n",
              "      <td id=\"T_8565c_row0_col5\" class=\"data row0 col5\" >-0.065845</td>\n",
              "      <td id=\"T_8565c_row0_col6\" class=\"data row0 col6\" >-0.165492</td>\n",
              "      <td id=\"T_8565c_row0_col7\" class=\"data row0 col7\" >0.161995</td>\n",
              "      <td id=\"T_8565c_row0_col8\" class=\"data row0 col8\" >-0.058490</td>\n",
              "      <td id=\"T_8565c_row0_col9\" class=\"data row0 col9\" >-0.000501</td>\n",
              "      <td id=\"T_8565c_row0_col10\" class=\"data row0 col10\" >0.005246</td>\n",
              "      <td id=\"T_8565c_row0_col11\" class=\"data row0 col11\" >0.084063</td>\n",
              "      <td id=\"T_8565c_row0_col12\" class=\"data row0 col12\" >-0.345226</td>\n",
              "      <td id=\"T_8565c_row0_col13\" class=\"data row0 col13\" >0.159475</td>\n",
              "      <td id=\"T_8565c_row0_col14\" class=\"data row0 col14\" >0.099684</td>\n",
              "    </tr>\n",
              "    <tr>\n",
              "      <th id=\"T_8565c_level0_row1\" class=\"row_heading level0 row1\" >Sensor2_PM2.5</th>\n",
              "      <td id=\"T_8565c_row1_col0\" class=\"data row1 col0\" >0.959253</td>\n",
              "      <td id=\"T_8565c_row1_col1\" class=\"data row1 col1\" >1.000000</td>\n",
              "      <td id=\"T_8565c_row1_col2\" class=\"data row1 col2\" >-0.363295</td>\n",
              "      <td id=\"T_8565c_row1_col3\" class=\"data row1 col3\" >0.318470</td>\n",
              "      <td id=\"T_8565c_row1_col4\" class=\"data row1 col4\" >-0.309739</td>\n",
              "      <td id=\"T_8565c_row1_col5\" class=\"data row1 col5\" >-0.060088</td>\n",
              "      <td id=\"T_8565c_row1_col6\" class=\"data row1 col6\" >-0.172149</td>\n",
              "      <td id=\"T_8565c_row1_col7\" class=\"data row1 col7\" >0.172634</td>\n",
              "      <td id=\"T_8565c_row1_col8\" class=\"data row1 col8\" >-0.054364</td>\n",
              "      <td id=\"T_8565c_row1_col9\" class=\"data row1 col9\" >-0.000481</td>\n",
              "      <td id=\"T_8565c_row1_col10\" class=\"data row1 col10\" >0.000965</td>\n",
              "      <td id=\"T_8565c_row1_col11\" class=\"data row1 col11\" >0.080507</td>\n",
              "      <td id=\"T_8565c_row1_col12\" class=\"data row1 col12\" >-0.321080</td>\n",
              "      <td id=\"T_8565c_row1_col13\" class=\"data row1 col13\" >0.147091</td>\n",
              "      <td id=\"T_8565c_row1_col14\" class=\"data row1 col14\" >0.091623</td>\n",
              "    </tr>\n",
              "    <tr>\n",
              "      <th id=\"T_8565c_level0_row2\" class=\"row_heading level0 row2\" >Temperature</th>\n",
              "      <td id=\"T_8565c_row2_col0\" class=\"data row2 col0\" >-0.390342</td>\n",
              "      <td id=\"T_8565c_row2_col1\" class=\"data row2 col1\" >-0.363295</td>\n",
              "      <td id=\"T_8565c_row2_col2\" class=\"data row2 col2\" >1.000000</td>\n",
              "      <td id=\"T_8565c_row2_col3\" class=\"data row2 col3\" >-0.933608</td>\n",
              "      <td id=\"T_8565c_row2_col4\" class=\"data row2 col4\" >0.005218</td>\n",
              "      <td id=\"T_8565c_row2_col5\" class=\"data row2 col5\" >-0.012197</td>\n",
              "      <td id=\"T_8565c_row2_col6\" class=\"data row2 col6\" >0.033259</td>\n",
              "      <td id=\"T_8565c_row2_col7\" class=\"data row2 col7\" >-0.027746</td>\n",
              "      <td id=\"T_8565c_row2_col8\" class=\"data row2 col8\" >0.374180</td>\n",
              "      <td id=\"T_8565c_row2_col9\" class=\"data row2 col9\" >0.000575</td>\n",
              "      <td id=\"T_8565c_row2_col10\" class=\"data row2 col10\" >0.001721</td>\n",
              "      <td id=\"T_8565c_row2_col11\" class=\"data row2 col11\" >-0.159391</td>\n",
              "      <td id=\"T_8565c_row2_col12\" class=\"data row2 col12\" >0.692063</td>\n",
              "      <td id=\"T_8565c_row2_col13\" class=\"data row2 col13\" >-0.075966</td>\n",
              "      <td id=\"T_8565c_row2_col14\" class=\"data row2 col14\" >-0.446118</td>\n",
              "    </tr>\n",
              "    <tr>\n",
              "      <th id=\"T_8565c_level0_row3\" class=\"row_heading level0 row3\" >Relative_Humidity</th>\n",
              "      <td id=\"T_8565c_row3_col0\" class=\"data row3 col0\" >0.345020</td>\n",
              "      <td id=\"T_8565c_row3_col1\" class=\"data row3 col1\" >0.318470</td>\n",
              "      <td id=\"T_8565c_row3_col2\" class=\"data row3 col2\" >-0.933608</td>\n",
              "      <td id=\"T_8565c_row3_col3\" class=\"data row3 col3\" >1.000000</td>\n",
              "      <td id=\"T_8565c_row3_col4\" class=\"data row3 col4\" >-0.005508</td>\n",
              "      <td id=\"T_8565c_row3_col5\" class=\"data row3 col5\" >0.054963</td>\n",
              "      <td id=\"T_8565c_row3_col6\" class=\"data row3 col6\" >0.090350</td>\n",
              "      <td id=\"T_8565c_row3_col7\" class=\"data row3 col7\" >-0.093323</td>\n",
              "      <td id=\"T_8565c_row3_col8\" class=\"data row3 col8\" >-0.389953</td>\n",
              "      <td id=\"T_8565c_row3_col9\" class=\"data row3 col9\" >-0.000132</td>\n",
              "      <td id=\"T_8565c_row3_col10\" class=\"data row3 col10\" >0.009902</td>\n",
              "      <td id=\"T_8565c_row3_col11\" class=\"data row3 col11\" >0.202005</td>\n",
              "      <td id=\"T_8565c_row3_col12\" class=\"data row3 col12\" >-0.660733</td>\n",
              "      <td id=\"T_8565c_row3_col13\" class=\"data row3 col13\" >0.022660</td>\n",
              "      <td id=\"T_8565c_row3_col14\" class=\"data row3 col14\" >0.425752</td>\n",
              "    </tr>\n",
              "    <tr>\n",
              "      <th id=\"T_8565c_level0_row4\" class=\"row_heading level0 row4\" >Offset_fault</th>\n",
              "      <td id=\"T_8565c_row4_col0\" class=\"data row4 col0\" >-0.176257</td>\n",
              "      <td id=\"T_8565c_row4_col1\" class=\"data row4 col1\" >-0.309739</td>\n",
              "      <td id=\"T_8565c_row4_col2\" class=\"data row4 col2\" >0.005218</td>\n",
              "      <td id=\"T_8565c_row4_col3\" class=\"data row4 col3\" >-0.005508</td>\n",
              "      <td id=\"T_8565c_row4_col4\" class=\"data row4 col4\" >1.000000</td>\n",
              "      <td id=\"T_8565c_row4_col5\" class=\"data row4 col5\" >0.003973</td>\n",
              "      <td id=\"T_8565c_row4_col6\" class=\"data row4 col6\" >0.006119</td>\n",
              "      <td id=\"T_8565c_row4_col7\" class=\"data row4 col7\" >-0.004846</td>\n",
              "      <td id=\"T_8565c_row4_col8\" class=\"data row4 col8\" >0.004706</td>\n",
              "      <td id=\"T_8565c_row4_col9\" class=\"data row4 col9\" >0.000194</td>\n",
              "      <td id=\"T_8565c_row4_col10\" class=\"data row4 col10\" >-0.000755</td>\n",
              "      <td id=\"T_8565c_row4_col11\" class=\"data row4 col11\" >-0.002761</td>\n",
              "      <td id=\"T_8565c_row4_col12\" class=\"data row4 col12\" >0.003058</td>\n",
              "      <td id=\"T_8565c_row4_col13\" class=\"data row4 col13\" >0.003029</td>\n",
              "      <td id=\"T_8565c_row4_col14\" class=\"data row4 col14\" >-0.003269</td>\n",
              "    </tr>\n",
              "    <tr>\n",
              "      <th id=\"T_8565c_level0_row5\" class=\"row_heading level0 row5\" >Datetime_day</th>\n",
              "      <td id=\"T_8565c_row5_col0\" class=\"data row5 col0\" >-0.065845</td>\n",
              "      <td id=\"T_8565c_row5_col1\" class=\"data row5 col1\" >-0.060088</td>\n",
              "      <td id=\"T_8565c_row5_col2\" class=\"data row5 col2\" >-0.012197</td>\n",
              "      <td id=\"T_8565c_row5_col3\" class=\"data row5 col3\" >0.054963</td>\n",
              "      <td id=\"T_8565c_row5_col4\" class=\"data row5 col4\" >0.003973</td>\n",
              "      <td id=\"T_8565c_row5_col5\" class=\"data row5 col5\" >1.000000</td>\n",
              "      <td id=\"T_8565c_row5_col6\" class=\"data row5 col6\" >0.269636</td>\n",
              "      <td id=\"T_8565c_row5_col7\" class=\"data row5 col7\" >-0.313015</td>\n",
              "      <td id=\"T_8565c_row5_col8\" class=\"data row5 col8\" >-0.003369</td>\n",
              "      <td id=\"T_8565c_row5_col9\" class=\"data row5 col9\" >0.000952</td>\n",
              "      <td id=\"T_8565c_row5_col10\" class=\"data row5 col10\" >0.038032</td>\n",
              "      <td id=\"T_8565c_row5_col11\" class=\"data row5 col11\" >-0.001047</td>\n",
              "      <td id=\"T_8565c_row5_col12\" class=\"data row5 col12\" >-0.003515</td>\n",
              "      <td id=\"T_8565c_row5_col13\" class=\"data row5 col13\" >-0.000148</td>\n",
              "      <td id=\"T_8565c_row5_col14\" class=\"data row5 col14\" >0.004652</td>\n",
              "    </tr>\n",
              "    <tr>\n",
              "      <th id=\"T_8565c_level0_row6\" class=\"row_heading level0 row6\" >Datetime_month</th>\n",
              "      <td id=\"T_8565c_row6_col0\" class=\"data row6 col0\" >-0.165492</td>\n",
              "      <td id=\"T_8565c_row6_col1\" class=\"data row6 col1\" >-0.172149</td>\n",
              "      <td id=\"T_8565c_row6_col2\" class=\"data row6 col2\" >0.033259</td>\n",
              "      <td id=\"T_8565c_row6_col3\" class=\"data row6 col3\" >0.090350</td>\n",
              "      <td id=\"T_8565c_row6_col4\" class=\"data row6 col4\" >0.006119</td>\n",
              "      <td id=\"T_8565c_row6_col5\" class=\"data row6 col5\" >0.269636</td>\n",
              "      <td id=\"T_8565c_row6_col6\" class=\"data row6 col6\" >1.000000</td>\n",
              "      <td id=\"T_8565c_row6_col7\" class=\"data row6 col7\" >-0.986940</td>\n",
              "      <td id=\"T_8565c_row6_col8\" class=\"data row6 col8\" >0.006486</td>\n",
              "      <td id=\"T_8565c_row6_col9\" class=\"data row6 col9\" >0.000115</td>\n",
              "      <td id=\"T_8565c_row6_col10\" class=\"data row6 col10\" >0.016727</td>\n",
              "      <td id=\"T_8565c_row6_col11\" class=\"data row6 col11\" >-0.004147</td>\n",
              "      <td id=\"T_8565c_row6_col12\" class=\"data row6 col12\" >-0.002766</td>\n",
              "      <td id=\"T_8565c_row6_col13\" class=\"data row6 col13\" >0.009331</td>\n",
              "      <td id=\"T_8565c_row6_col14\" class=\"data row6 col14\" >-0.002366</td>\n",
              "    </tr>\n",
              "    <tr>\n",
              "      <th id=\"T_8565c_level0_row7\" class=\"row_heading level0 row7\" >Datetime_year</th>\n",
              "      <td id=\"T_8565c_row7_col0\" class=\"data row7 col0\" >0.161995</td>\n",
              "      <td id=\"T_8565c_row7_col1\" class=\"data row7 col1\" >0.172634</td>\n",
              "      <td id=\"T_8565c_row7_col2\" class=\"data row7 col2\" >-0.027746</td>\n",
              "      <td id=\"T_8565c_row7_col3\" class=\"data row7 col3\" >-0.093323</td>\n",
              "      <td id=\"T_8565c_row7_col4\" class=\"data row7 col4\" >-0.004846</td>\n",
              "      <td id=\"T_8565c_row7_col5\" class=\"data row7 col5\" >-0.313015</td>\n",
              "      <td id=\"T_8565c_row7_col6\" class=\"data row7 col6\" >-0.986940</td>\n",
              "      <td id=\"T_8565c_row7_col7\" class=\"data row7 col7\" >1.000000</td>\n",
              "      <td id=\"T_8565c_row7_col8\" class=\"data row7 col8\" >-0.008027</td>\n",
              "      <td id=\"T_8565c_row7_col9\" class=\"data row7 col9\" >-0.000183</td>\n",
              "      <td id=\"T_8565c_row7_col10\" class=\"data row7 col10\" >-0.024027</td>\n",
              "      <td id=\"T_8565c_row7_col11\" class=\"data row7 col11\" >0.004720</td>\n",
              "      <td id=\"T_8565c_row7_col12\" class=\"data row7 col12\" >0.002631</td>\n",
              "      <td id=\"T_8565c_row7_col13\" class=\"data row7 col13\" >-0.010660</td>\n",
              "      <td id=\"T_8565c_row7_col14\" class=\"data row7 col14\" >0.003243</td>\n",
              "    </tr>\n",
              "    <tr>\n",
              "      <th id=\"T_8565c_level0_row8\" class=\"row_heading level0 row8\" >Datetime_hour</th>\n",
              "      <td id=\"T_8565c_row8_col0\" class=\"data row8 col0\" >-0.058490</td>\n",
              "      <td id=\"T_8565c_row8_col1\" class=\"data row8 col1\" >-0.054364</td>\n",
              "      <td id=\"T_8565c_row8_col2\" class=\"data row8 col2\" >0.374180</td>\n",
              "      <td id=\"T_8565c_row8_col3\" class=\"data row8 col3\" >-0.389953</td>\n",
              "      <td id=\"T_8565c_row8_col4\" class=\"data row8 col4\" >0.004706</td>\n",
              "      <td id=\"T_8565c_row8_col5\" class=\"data row8 col5\" >-0.003369</td>\n",
              "      <td id=\"T_8565c_row8_col6\" class=\"data row8 col6\" >0.006486</td>\n",
              "      <td id=\"T_8565c_row8_col7\" class=\"data row8 col7\" >-0.008027</td>\n",
              "      <td id=\"T_8565c_row8_col8\" class=\"data row8 col8\" >1.000000</td>\n",
              "      <td id=\"T_8565c_row8_col9\" class=\"data row8 col9\" >0.000474</td>\n",
              "      <td id=\"T_8565c_row8_col10\" class=\"data row8 col10\" >0.003859</td>\n",
              "      <td id=\"T_8565c_row8_col11\" class=\"data row8 col11\" >-0.242939</td>\n",
              "      <td id=\"T_8565c_row8_col12\" class=\"data row8 col12\" >0.256325</td>\n",
              "      <td id=\"T_8565c_row8_col13\" class=\"data row8 col13\" >0.750688</td>\n",
              "      <td id=\"T_8565c_row8_col14\" class=\"data row8 col14\" >-0.752726</td>\n",
              "    </tr>\n",
              "    <tr>\n",
              "      <th id=\"T_8565c_level0_row9\" class=\"row_heading level0 row9\" >Datetime_minute</th>\n",
              "      <td id=\"T_8565c_row9_col0\" class=\"data row9 col0\" >-0.000501</td>\n",
              "      <td id=\"T_8565c_row9_col1\" class=\"data row9 col1\" >-0.000481</td>\n",
              "      <td id=\"T_8565c_row9_col2\" class=\"data row9 col2\" >0.000575</td>\n",
              "      <td id=\"T_8565c_row9_col3\" class=\"data row9 col3\" >-0.000132</td>\n",
              "      <td id=\"T_8565c_row9_col4\" class=\"data row9 col4\" >0.000194</td>\n",
              "      <td id=\"T_8565c_row9_col5\" class=\"data row9 col5\" >0.000952</td>\n",
              "      <td id=\"T_8565c_row9_col6\" class=\"data row9 col6\" >0.000115</td>\n",
              "      <td id=\"T_8565c_row9_col7\" class=\"data row9 col7\" >-0.000183</td>\n",
              "      <td id=\"T_8565c_row9_col8\" class=\"data row9 col8\" >0.000474</td>\n",
              "      <td id=\"T_8565c_row9_col9\" class=\"data row9 col9\" >1.000000</td>\n",
              "      <td id=\"T_8565c_row9_col10\" class=\"data row9 col10\" >0.000479</td>\n",
              "      <td id=\"T_8565c_row9_col11\" class=\"data row9 col11\" >-0.002075</td>\n",
              "      <td id=\"T_8565c_row9_col12\" class=\"data row9 col12\" >0.000808</td>\n",
              "      <td id=\"T_8565c_row9_col13\" class=\"data row9 col13\" >0.000538</td>\n",
              "      <td id=\"T_8565c_row9_col14\" class=\"data row9 col14\" >0.000728</td>\n",
              "    </tr>\n",
              "    <tr>\n",
              "      <th id=\"T_8565c_level0_row10\" class=\"row_heading level0 row10\" >Datetime_dayofweek</th>\n",
              "      <td id=\"T_8565c_row10_col0\" class=\"data row10 col0\" >0.005246</td>\n",
              "      <td id=\"T_8565c_row10_col1\" class=\"data row10 col1\" >0.000965</td>\n",
              "      <td id=\"T_8565c_row10_col2\" class=\"data row10 col2\" >0.001721</td>\n",
              "      <td id=\"T_8565c_row10_col3\" class=\"data row10 col3\" >0.009902</td>\n",
              "      <td id=\"T_8565c_row10_col4\" class=\"data row10 col4\" >-0.000755</td>\n",
              "      <td id=\"T_8565c_row10_col5\" class=\"data row10 col5\" >0.038032</td>\n",
              "      <td id=\"T_8565c_row10_col6\" class=\"data row10 col6\" >0.016727</td>\n",
              "      <td id=\"T_8565c_row10_col7\" class=\"data row10 col7\" >-0.024027</td>\n",
              "      <td id=\"T_8565c_row10_col8\" class=\"data row10 col8\" >0.003859</td>\n",
              "      <td id=\"T_8565c_row10_col9\" class=\"data row10 col9\" >0.000479</td>\n",
              "      <td id=\"T_8565c_row10_col10\" class=\"data row10 col10\" >1.000000</td>\n",
              "      <td id=\"T_8565c_row10_col11\" class=\"data row10 col11\" >0.001084</td>\n",
              "      <td id=\"T_8565c_row10_col12\" class=\"data row10 col12\" >0.004646</td>\n",
              "      <td id=\"T_8565c_row10_col13\" class=\"data row10 col13\" >-0.000135</td>\n",
              "      <td id=\"T_8565c_row10_col14\" class=\"data row10 col14\" >-0.005524</td>\n",
              "    </tr>\n",
              "    <tr>\n",
              "      <th id=\"T_8565c_level0_row11\" class=\"row_heading level0 row11\" >is_morning</th>\n",
              "      <td id=\"T_8565c_row11_col0\" class=\"data row11 col0\" >0.084063</td>\n",
              "      <td id=\"T_8565c_row11_col1\" class=\"data row11 col1\" >0.080507</td>\n",
              "      <td id=\"T_8565c_row11_col2\" class=\"data row11 col2\" >-0.159391</td>\n",
              "      <td id=\"T_8565c_row11_col3\" class=\"data row11 col3\" >0.202005</td>\n",
              "      <td id=\"T_8565c_row11_col4\" class=\"data row11 col4\" >-0.002761</td>\n",
              "      <td id=\"T_8565c_row11_col5\" class=\"data row11 col5\" >-0.001047</td>\n",
              "      <td id=\"T_8565c_row11_col6\" class=\"data row11 col6\" >-0.004147</td>\n",
              "      <td id=\"T_8565c_row11_col7\" class=\"data row11 col7\" >0.004720</td>\n",
              "      <td id=\"T_8565c_row11_col8\" class=\"data row11 col8\" >-0.242939</td>\n",
              "      <td id=\"T_8565c_row11_col9\" class=\"data row11 col9\" >-0.002075</td>\n",
              "      <td id=\"T_8565c_row11_col10\" class=\"data row11 col10\" >0.001084</td>\n",
              "      <td id=\"T_8565c_row11_col11\" class=\"data row11 col11\" >1.000000</td>\n",
              "      <td id=\"T_8565c_row11_col12\" class=\"data row11 col12\" >-0.330338</td>\n",
              "      <td id=\"T_8565c_row11_col13\" class=\"data row11 col13\" >-0.330192</td>\n",
              "      <td id=\"T_8565c_row11_col14\" class=\"data row11 col14\" >-0.339343</td>\n",
              "    </tr>\n",
              "    <tr>\n",
              "      <th id=\"T_8565c_level0_row12\" class=\"row_heading level0 row12\" >is_afternoon</th>\n",
              "      <td id=\"T_8565c_row12_col0\" class=\"data row12 col0\" >-0.345226</td>\n",
              "      <td id=\"T_8565c_row12_col1\" class=\"data row12 col1\" >-0.321080</td>\n",
              "      <td id=\"T_8565c_row12_col2\" class=\"data row12 col2\" >0.692063</td>\n",
              "      <td id=\"T_8565c_row12_col3\" class=\"data row12 col3\" >-0.660733</td>\n",
              "      <td id=\"T_8565c_row12_col4\" class=\"data row12 col4\" >0.003058</td>\n",
              "      <td id=\"T_8565c_row12_col5\" class=\"data row12 col5\" >-0.003515</td>\n",
              "      <td id=\"T_8565c_row12_col6\" class=\"data row12 col6\" >-0.002766</td>\n",
              "      <td id=\"T_8565c_row12_col7\" class=\"data row12 col7\" >0.002631</td>\n",
              "      <td id=\"T_8565c_row12_col8\" class=\"data row12 col8\" >0.256325</td>\n",
              "      <td id=\"T_8565c_row12_col9\" class=\"data row12 col9\" >0.000808</td>\n",
              "      <td id=\"T_8565c_row12_col10\" class=\"data row12 col10\" >0.004646</td>\n",
              "      <td id=\"T_8565c_row12_col11\" class=\"data row12 col11\" >-0.330338</td>\n",
              "      <td id=\"T_8565c_row12_col12\" class=\"data row12 col12\" >1.000000</td>\n",
              "      <td id=\"T_8565c_row12_col13\" class=\"data row12 col13\" >-0.327350</td>\n",
              "      <td id=\"T_8565c_row12_col14\" class=\"data row12 col14\" >-0.336423</td>\n",
              "    </tr>\n",
              "    <tr>\n",
              "      <th id=\"T_8565c_level0_row13\" class=\"row_heading level0 row13\" >is_evening</th>\n",
              "      <td id=\"T_8565c_row13_col0\" class=\"data row13 col0\" >0.159475</td>\n",
              "      <td id=\"T_8565c_row13_col1\" class=\"data row13 col1\" >0.147091</td>\n",
              "      <td id=\"T_8565c_row13_col2\" class=\"data row13 col2\" >-0.075966</td>\n",
              "      <td id=\"T_8565c_row13_col3\" class=\"data row13 col3\" >0.022660</td>\n",
              "      <td id=\"T_8565c_row13_col4\" class=\"data row13 col4\" >0.003029</td>\n",
              "      <td id=\"T_8565c_row13_col5\" class=\"data row13 col5\" >-0.000148</td>\n",
              "      <td id=\"T_8565c_row13_col6\" class=\"data row13 col6\" >0.009331</td>\n",
              "      <td id=\"T_8565c_row13_col7\" class=\"data row13 col7\" >-0.010660</td>\n",
              "      <td id=\"T_8565c_row13_col8\" class=\"data row13 col8\" >0.750688</td>\n",
              "      <td id=\"T_8565c_row13_col9\" class=\"data row13 col9\" >0.000538</td>\n",
              "      <td id=\"T_8565c_row13_col10\" class=\"data row13 col10\" >-0.000135</td>\n",
              "      <td id=\"T_8565c_row13_col11\" class=\"data row13 col11\" >-0.330192</td>\n",
              "      <td id=\"T_8565c_row13_col12\" class=\"data row13 col12\" >-0.327350</td>\n",
              "      <td id=\"T_8565c_row13_col13\" class=\"data row13 col13\" >1.000000</td>\n",
              "      <td id=\"T_8565c_row13_col14\" class=\"data row13 col14\" >-0.336273</td>\n",
              "    </tr>\n",
              "    <tr>\n",
              "      <th id=\"T_8565c_level0_row14\" class=\"row_heading level0 row14\" >is_night</th>\n",
              "      <td id=\"T_8565c_row14_col0\" class=\"data row14 col0\" >0.099684</td>\n",
              "      <td id=\"T_8565c_row14_col1\" class=\"data row14 col1\" >0.091623</td>\n",
              "      <td id=\"T_8565c_row14_col2\" class=\"data row14 col2\" >-0.446118</td>\n",
              "      <td id=\"T_8565c_row14_col3\" class=\"data row14 col3\" >0.425752</td>\n",
              "      <td id=\"T_8565c_row14_col4\" class=\"data row14 col4\" >-0.003269</td>\n",
              "      <td id=\"T_8565c_row14_col5\" class=\"data row14 col5\" >0.004652</td>\n",
              "      <td id=\"T_8565c_row14_col6\" class=\"data row14 col6\" >-0.002366</td>\n",
              "      <td id=\"T_8565c_row14_col7\" class=\"data row14 col7\" >0.003243</td>\n",
              "      <td id=\"T_8565c_row14_col8\" class=\"data row14 col8\" >-0.752726</td>\n",
              "      <td id=\"T_8565c_row14_col9\" class=\"data row14 col9\" >0.000728</td>\n",
              "      <td id=\"T_8565c_row14_col10\" class=\"data row14 col10\" >-0.005524</td>\n",
              "      <td id=\"T_8565c_row14_col11\" class=\"data row14 col11\" >-0.339343</td>\n",
              "      <td id=\"T_8565c_row14_col12\" class=\"data row14 col12\" >-0.336423</td>\n",
              "      <td id=\"T_8565c_row14_col13\" class=\"data row14 col13\" >-0.336273</td>\n",
              "      <td id=\"T_8565c_row14_col14\" class=\"data row14 col14\" >1.000000</td>\n",
              "    </tr>\n",
              "  </tbody>\n",
              "</table>\n"
            ]
          },
          "metadata": {},
          "execution_count": 15
        }
      ],
      "source": [
        "corr = train.corr()\n",
        "corr.style.background_gradient()"
      ]
    },
    {
      "cell_type": "code",
      "execution_count": 16,
      "id": "83581875-7e78-42d9-b519-6ca8be453c36",
      "metadata": {
        "id": "83581875-7e78-42d9-b519-6ca8be453c36",
        "colab": {
          "base_uri": "https://localhost:8080/",
          "height": 484
        },
        "outputId": "1e7def14-05b6-4f46-8d0c-0b0f7628aac3"
      },
      "outputs": [
        {
          "output_type": "display_data",
          "data": {
            "text/plain": [
              "<Figure size 1080x576 with 1 Axes>"
            ],
            "image/png": "[encoded data removed]"
          },
          "metadata": {
            "needs_background": "light"
          }
        }
      ],
      "source": [
        "plt.rcParams['figure.figsize']=(15,8)\n",
        "train.boxplot(column=['Sensor1_PM2.5',\n",
        " 'Sensor2_PM2.5',\n",
        " 'Temperature',\n",
        " 'Relative_Humidity'])\n",
        "plt.show()"
      ]
    },
    {
      "cell_type": "markdown",
      "id": "c1a11cec-6e60-4290-bf67-fa959ccad208",
      "metadata": {
        "id": "c1a11cec-6e60-4290-bf67-fa959ccad208"
      },
      "source": [
        "From the  above plot we can see that our features **Sensor1_PM2.5 and Sensor2_MP2.5** is show a huge outliers so for the first time I try dropping them then we might loss so many data I decide to keep it as it and I will scale the features later on."
      ]
    },
    {
      "cell_type": "code",
      "execution_count": 17,
      "id": "a1082590-169d-41d9-ac5b-8a8e540281a9",
      "metadata": {
        "id": "a1082590-169d-41d9-ac5b-8a8e540281a9",
        "colab": {
          "base_uri": "https://localhost:8080/"
        },
        "outputId": "85f39fdb-a446-435a-f65b-a38f5f896943"
      },
      "outputs": [
        {
          "output_type": "execute_result",
          "data": {
            "text/plain": [
              "((297177, 16), (127361, 15))"
            ]
          },
          "metadata": {},
          "execution_count": 17
        }
      ],
      "source": [
        "train.shape,test.shape"
      ]
    },
    {
      "cell_type": "code",
      "execution_count": 18,
      "id": "c3930140-0622-443f-91a1-522428ba3426",
      "metadata": {
        "id": "c3930140-0622-443f-91a1-522428ba3426"
      },
      "outputs": [],
      "source": [
        "train = train.drop('Datetime',axis=1)\n",
        "test = test.drop('Datetime',axis=1)"
      ]
    },
    {
      "cell_type": "code",
      "execution_count": 19,
      "id": "5ef92c6a-82dc-4102-b545-ba8d7806c379",
      "metadata": {
        "id": "5ef92c6a-82dc-4102-b545-ba8d7806c379"
      },
      "outputs": [],
      "source": [
        "# feature_names = train.drop(['Offset_fault','Datetime_month','Datetime_year'], axis=1).columns\n",
        "# for i in range(len(feature_names)-1):\n",
        "#     figure = plt.figure()\n",
        "#     ax = sns.boxplot(x='Offset_fault', y=feature_names[i], data=train)"
      ]
    },
    {
      "cell_type": "code",
      "execution_count": 20,
      "id": "3ac76b1b-d9e3-4d2f-b4c8-f5b40a7b6584",
      "metadata": {
        "id": "3ac76b1b-d9e3-4d2f-b4c8-f5b40a7b6584",
        "colab": {
          "base_uri": "https://localhost:8080/"
        },
        "outputId": "df67bca4-e2f6-4241-fcc9-0319f6a19fcd"
      },
      "outputs": [
        {
          "output_type": "execute_result",
          "data": {
            "text/plain": [
              "(297177, 15)"
            ]
          },
          "metadata": {},
          "execution_count": 20
        }
      ],
      "source": [
        "train.shape"
      ]
    },
    {
      "cell_type": "code",
      "execution_count": 21,
      "id": "aed434ec-72b5-4331-87a4-e8adbb23f730",
      "metadata": {
        "id": "aed434ec-72b5-4331-87a4-e8adbb23f730"
      },
      "outputs": [],
      "source": [
        "X = train.drop('Offset_fault',axis=1)\n",
        "y = train['Offset_fault']"
      ]
    },
    {
      "cell_type": "markdown",
      "id": "f68a4d16-3460-49fd-8a7a-cc22c162e889",
      "metadata": {
        "id": "f68a4d16-3460-49fd-8a7a-cc22c162e889"
      },
      "source": [
        "\n",
        "\n",
        "Here I am capturing NaN per row and making new feature.<br>\n",
        "I am doing this because sometime missing carry signal so we only give it to the model.\n"
      ]
    },
    {
      "cell_type": "code",
      "execution_count": 22,
      "id": "671a9871-2f80-4d0e-ae4e-78701772d43e",
      "metadata": {
        "id": "671a9871-2f80-4d0e-ae4e-78701772d43e"
      },
      "outputs": [],
      "source": [
        "def feature_engineering(df):\n",
        "    df['NaN_row'] = df.isna().sum(axis=1)\n",
        "    df['std'] = df.std(axis=1)\n",
        "    return df\n",
        "\n",
        "X = feature_engineering(X)\n",
        "test = feature_engineering(test)"
      ]
    },
    {
      "cell_type": "markdown",
      "id": "104b8038-1a72-4b70-8120-25f9ad540a0d",
      "metadata": {
        "id": "104b8038-1a72-4b70-8120-25f9ad540a0d"
      },
      "source": [
        "# added code"
      ]
    },
    {
      "cell_type": "code",
      "execution_count": 23,
      "id": "881bd9a3-f997-4a70-a352-0a3ff5320f33",
      "metadata": {
        "id": "881bd9a3-f997-4a70-a352-0a3ff5320f33",
        "colab": {
          "base_uri": "https://localhost:8080/",
          "height": 270
        },
        "outputId": "5e08b30f-f88e-4646-d90c-4e4eb2d99007"
      },
      "outputs": [
        {
          "output_type": "execute_result",
          "data": {
            "text/plain": [
              "   Sensor1_PM2.5  Sensor2_PM2.5  Temperature  Relative_Humidity  Datetime_day  \\\n",
              "0          52.58          49.52         17.4               96.0             3   \n",
              "1          35.25          33.40         25.0               75.0             8   \n",
              "2          19.18          23.50         24.9               75.0             7   \n",
              "3          19.40          15.48         24.9               70.0             1   \n",
              "4          38.30          34.77         20.9               89.0             5   \n",
              "\n",
              "   Datetime_month  Datetime_year  Datetime_hour  Datetime_minute  \\\n",
              "0              11           2021              4                6   \n",
              "1              11           2021             18               43   \n",
              "2              11           2021              9               50   \n",
              "3               1           2022             18               55   \n",
              "4              11           2021             22               23   \n",
              "\n",
              "   Datetime_dayofweek  is_morning  is_afternoon  is_evening  is_night  \\\n",
              "0                   2       False         False       False      True   \n",
              "1                   0       False         False        True     False   \n",
              "2                   6        True         False       False     False   \n",
              "3                   5       False         False        True     False   \n",
              "4                   4       False         False        True     False   \n",
              "\n",
              "   NaN_row         std  AverageTemperature  AverageHumidity  Total_sensor  \n",
              "0        0  518.087244           19.225618        96.000000        102.10  \n",
              "1        0  517.665411           23.488154        73.424399         68.65  \n",
              "2        0  518.074715           23.488154        71.555641         42.68  \n",
              "3        0  518.627532           25.374640        71.555641         34.88  \n",
              "4        0  517.765326           20.804341        89.117179         73.07  "
            ],
            "text/html": [
              "\n",
              "  <div id=\"df-d0e4322a-51ef-4be1-860d-b05c5efc7f2e\">\n",
              "    <div class=\"colab-df-container\">\n",
              "      <div>\n",
              "<style scoped>\n",
              "    .dataframe tbody tr th:only-of-type {\n",
              "        vertical-align: middle;\n",
              "    }\n",
              "\n",
              "    .dataframe tbody tr th {\n",
              "        vertical-align: top;\n",
              "    }\n",
              "\n",
              "    .dataframe thead th {\n",
              "        text-align: right;\n",
              "    }\n",
              "</style>\n",
              "<table border=\"1\" class=\"dataframe\">\n",
              "  <thead>\n",
              "    <tr style=\"text-align: right;\">\n",
              "      <th></th>\n",
              "      <th>Sensor1_PM2.5</th>\n",
              "      <th>Sensor2_PM2.5</th>\n",
              "      <th>Temperature</th>\n",
              "      <th>Relative_Humidity</th>\n",
              "      <th>Datetime_day</th>\n",
              "      <th>Datetime_month</th>\n",
              "      <th>Datetime_year</th>\n",
              "      <th>Datetime_hour</th>\n",
              "      <th>Datetime_minute</th>\n",
              "      <th>Datetime_dayofweek</th>\n",
              "      <th>is_morning</th>\n",
              "      <th>is_afternoon</th>\n",
              "      <th>is_evening</th>\n",
              "      <th>is_night</th>\n",
              "      <th>NaN_row</th>\n",
              "      <th>std</th>\n",
              "      <th>AverageTemperature</th>\n",
              "      <th>AverageHumidity</th>\n",
              "      <th>Total_sensor</th>\n",
              "    </tr>\n",
              "  </thead>\n",
              "  <tbody>\n",
              "    <tr>\n",
              "      <th>0</th>\n",
              "      <td>52.58</td>\n",
              "      <td>49.52</td>\n",
              "      <td>17.4</td>\n",
              "      <td>96.0</td>\n",
              "      <td>3</td>\n",
              "      <td>11</td>\n",
              "      <td>2021</td>\n",
              "      <td>4</td>\n",
              "      <td>6</td>\n",
              "      <td>2</td>\n",
              "      <td>False</td>\n",
              "      <td>False</td>\n",
              "      <td>False</td>\n",
              "      <td>True</td>\n",
              "      <td>0</td>\n",
              "      <td>518.087244</td>\n",
              "      <td>19.225618</td>\n",
              "      <td>96.000000</td>\n",
              "      <td>102.10</td>\n",
              "    </tr>\n",
              "    <tr>\n",
              "      <th>1</th>\n",
              "      <td>35.25</td>\n",
              "      <td>33.40</td>\n",
              "      <td>25.0</td>\n",
              "      <td>75.0</td>\n",
              "      <td>8</td>\n",
              "      <td>11</td>\n",
              "      <td>2021</td>\n",
              "      <td>18</td>\n",
              "      <td>43</td>\n",
              "      <td>0</td>\n",
              "      <td>False</td>\n",
              "      <td>False</td>\n",
              "      <td>True</td>\n",
              "      <td>False</td>\n",
              "      <td>0</td>\n",
              "      <td>517.665411</td>\n",
              "      <td>23.488154</td>\n",
              "      <td>73.424399</td>\n",
              "      <td>68.65</td>\n",
              "    </tr>\n",
              "    <tr>\n",
              "      <th>2</th>\n",
              "      <td>19.18</td>\n",
              "      <td>23.50</td>\n",
              "      <td>24.9</td>\n",
              "      <td>75.0</td>\n",
              "      <td>7</td>\n",
              "      <td>11</td>\n",
              "      <td>2021</td>\n",
              "      <td>9</td>\n",
              "      <td>50</td>\n",
              "      <td>6</td>\n",
              "      <td>True</td>\n",
              "      <td>False</td>\n",
              "      <td>False</td>\n",
              "      <td>False</td>\n",
              "      <td>0</td>\n",
              "      <td>518.074715</td>\n",
              "      <td>23.488154</td>\n",
              "      <td>71.555641</td>\n",
              "      <td>42.68</td>\n",
              "    </tr>\n",
              "    <tr>\n",
              "      <th>3</th>\n",
              "      <td>19.40</td>\n",
              "      <td>15.48</td>\n",
              "      <td>24.9</td>\n",
              "      <td>70.0</td>\n",
              "      <td>1</td>\n",
              "      <td>1</td>\n",
              "      <td>2022</td>\n",
              "      <td>18</td>\n",
              "      <td>55</td>\n",
              "      <td>5</td>\n",
              "      <td>False</td>\n",
              "      <td>False</td>\n",
              "      <td>True</td>\n",
              "      <td>False</td>\n",
              "      <td>0</td>\n",
              "      <td>518.627532</td>\n",
              "      <td>25.374640</td>\n",
              "      <td>71.555641</td>\n",
              "      <td>34.88</td>\n",
              "    </tr>\n",
              "    <tr>\n",
              "      <th>4</th>\n",
              "      <td>38.30</td>\n",
              "      <td>34.77</td>\n",
              "      <td>20.9</td>\n",
              "      <td>89.0</td>\n",
              "      <td>5</td>\n",
              "      <td>11</td>\n",
              "      <td>2021</td>\n",
              "      <td>22</td>\n",
              "      <td>23</td>\n",
              "      <td>4</td>\n",
              "      <td>False</td>\n",
              "      <td>False</td>\n",
              "      <td>True</td>\n",
              "      <td>False</td>\n",
              "      <td>0</td>\n",
              "      <td>517.765326</td>\n",
              "      <td>20.804341</td>\n",
              "      <td>89.117179</td>\n",
              "      <td>73.07</td>\n",
              "    </tr>\n",
              "  </tbody>\n",
              "</table>\n",
              "</div>\n",
              "      <button class=\"colab-df-convert\" onclick=\"convertToInteractive('df-d0e4322a-51ef-4be1-860d-b05c5efc7f2e')\"\n",
              "              title=\"Convert this dataframe to an interactive table.\"\n",
              "              style=\"display:none;\">\n",
              "        \n",
              "  <svg xmlns=\"http://www.w3.org/2000/svg\" height=\"24px\"viewBox=\"0 0 24 24\"\n",
              "       width=\"24px\">\n",
              "    <path d=\"M0 0h24v24H0V0z\" fill=\"none\"/>\n",
              "    <path d=\"M18.56 5.44l.94 2.06.94-2.06 2.06-.94-2.06-.94-.94-2.06-.94 2.06-2.06.94zm-11 1L8.5 8.5l.94-2.06 2.06-.94-2.06-.94L8.5 2.5l-.94 2.06-2.06.94zm10 10l.94 2.06.94-2.06 2.06-.94-2.06-.94-.94-2.06-.94 2.06-2.06.94z\"/><path d=\"M17.41 7.96l-1.37-1.37c-.4-.4-.92-.59-1.43-.59-.52 0-1.04.2-1.43.59L10.3 9.45l-7.72 7.72c-.78.78-.78 2.05 0 2.83L4 21.41c.39.39.9.59 1.41.59.51 0 1.02-.2 1.41-.59l7.78-7.78 2.81-2.81c.8-.78.8-2.07 0-2.86zM5.41 20L4 18.59l7.72-7.72 1.47 1.35L5.41 20z\"/>\n",
              "  </svg>\n",
              "      </button>\n",
              "      \n",
              "  <style>\n",
              "    .colab-df-container {\n",
              "      display:flex;\n",
              "      flex-wrap:wrap;\n",
              "      gap: 12px;\n",
              "    }\n",
              "\n",
              "    .colab-df-convert {\n",
              "      background-color: #E8F0FE;\n",
              "      border: none;\n",
              "      border-radius: 50%;\n",
              "      cursor: pointer;\n",
              "      display: none;\n",
              "      fill: #1967D2;\n",
              "      height: 32px;\n",
              "      padding: 0 0 0 0;\n",
              "      width: 32px;\n",
              "    }\n",
              "\n",
              "    .colab-df-convert:hover {\n",
              "      background-color: #E2EBFA;\n",
              "      box-shadow: 0px 1px 2px rgba(60, 64, 67, 0.3), 0px 1px 3px 1px rgba(60, 64, 67, 0.15);\n",
              "      fill: #174EA6;\n",
              "    }\n",
              "\n",
              "    [theme=dark] .colab-df-convert {\n",
              "      background-color: #3B4455;\n",
              "      fill: #D2E3FC;\n",
              "    }\n",
              "\n",
              "    [theme=dark] .colab-df-convert:hover {\n",
              "      background-color: #434B5C;\n",
              "      box-shadow: 0px 1px 3px 1px rgba(0, 0, 0, 0.15);\n",
              "      filter: drop-shadow(0px 1px 2px rgba(0, 0, 0, 0.3));\n",
              "      fill: #FFFFFF;\n",
              "    }\n",
              "  </style>\n",
              "\n",
              "      <script>\n",
              "        const buttonEl =\n",
              "          document.querySelector('#df-d0e4322a-51ef-4be1-860d-b05c5efc7f2e button.colab-df-convert');\n",
              "        buttonEl.style.display =\n",
              "          google.colab.kernel.accessAllowed ? 'block' : 'none';\n",
              "\n",
              "        async function convertToInteractive(key) {\n",
              "          const element = document.querySelector('#df-d0e4322a-51ef-4be1-860d-b05c5efc7f2e');\n",
              "          const dataTable =\n",
              "            await google.colab.kernel.invokeFunction('convertToInteractive',\n",
              "                                                     [key], {});\n",
              "          if (!dataTable) return;\n",
              "\n",
              "          const docLinkHtml = 'Like what you see? Visit the ' +\n",
              "            '<a target=\"_blank\" href=https://colab.research.google.com/notebooks/data_table.ipynb>data table notebook</a>'\n",
              "            + ' to learn more about interactive tables.';\n",
              "          element.innerHTML = '';\n",
              "          dataTable['output_type'] = 'display_data';\n",
              "          await google.colab.output.renderOutput(dataTable, element);\n",
              "          const docLink = document.createElement('div');\n",
              "          docLink.innerHTML = docLinkHtml;\n",
              "          element.appendChild(docLink);\n",
              "        }\n",
              "      </script>\n",
              "    </div>\n",
              "  </div>\n",
              "  "
            ]
          },
          "metadata": {},
          "execution_count": 23
        }
      ],
      "source": [
        "def feature_engineering(df):\n",
        "    #df['AverageTemperature'] = df['Temperature'].mean(axis=0)\n",
        "    df['AverageTemperature'] = df.groupby('Relative_Humidity')['Temperature'].transform('mean')\n",
        "    df['AverageHumidity'] = df.groupby('Temperature')['Relative_Humidity'].transform('mean')\n",
        "    # df['Relative_Humidity'] = df['Relative_Humidity'].mean(axis=0)\n",
        "    df['Total_sensor'] = df['Sensor1_PM2.5'] + df['Sensor2_PM2.5']\n",
        "    \n",
        "    return df\n",
        "\n",
        "X = feature_engineering(X)\n",
        "test = feature_engineering(test)\n",
        "\n",
        "X.head()"
      ]
    },
    {
      "cell_type": "code",
      "execution_count": 24,
      "id": "7ff3f2de-6c94-41c9-8932-4ef2d36ecf94",
      "metadata": {
        "id": "7ff3f2de-6c94-41c9-8932-4ef2d36ecf94",
        "colab": {
          "base_uri": "https://localhost:8080/"
        },
        "outputId": "e54693ca-593b-4204-889c-c01c9f29366b"
      },
      "outputs": [
        {
          "output_type": "execute_result",
          "data": {
            "text/plain": [
              "(297177, 19)"
            ]
          },
          "metadata": {},
          "execution_count": 24
        }
      ],
      "source": [
        "X.shape"
      ]
    },
    {
      "cell_type": "markdown",
      "id": "6e732479-55ed-4cb8-af10-0a830232f971",
      "metadata": {
        "id": "6e732479-55ed-4cb8-af10-0a830232f971"
      },
      "source": [
        "### Pipeline for data transformation "
      ]
    },
    {
      "cell_type": "code",
      "execution_count": 25,
      "id": "5970be33-49aa-4dc1-9079-5b1a9df1d428",
      "metadata": {
        "id": "5970be33-49aa-4dc1-9079-5b1a9df1d428"
      },
      "outputs": [],
      "source": [
        "pipeline = Pipeline([\n",
        "    ('impute', SimpleImputer(strategy='mean')),\n",
        "    ('scale', StandardScaler())\n",
        "])\n",
        "\n",
        "X = pd.DataFrame(columns=X.columns, data=pipeline.fit_transform(X))\n",
        "test = pd.DataFrame(columns=test.columns, data=pipeline.transform(test))"
      ]
    },
    {
      "cell_type": "code",
      "execution_count": 26,
      "id": "51c2dd76-d408-4f38-a8b5-3e7ad04000e6",
      "metadata": {
        "id": "51c2dd76-d408-4f38-a8b5-3e7ad04000e6",
        "colab": {
          "base_uri": "https://localhost:8080/",
          "height": 660
        },
        "outputId": "fdb3ece5-0a52-473c-905d-914a415f51e9"
      },
      "outputs": [
        {
          "output_type": "display_data",
          "data": {
            "text/plain": [
              "<Figure size 1728x720 with 2 Axes>"
            ],
            "image/png": "[encoded data removed]"
          },
          "metadata": {
            "needs_background": "light"
          }
        }
      ],
      "source": [
        "plt.figure(figsize=(24,10))\n",
        "sns.heatmap(train.corr(), cmap='YlGnBu', vmax=1.0, vmin=-1.0, annot = True, annot_kws={\"size\": 15})\n",
        "plt.title('Correlation between numeric features')\n",
        "plt.show()"
      ]
    },
    {
      "cell_type": "markdown",
      "id": "503a8be8-be72-4702-9347-5bf4a1c0ba5f",
      "metadata": {
        "id": "503a8be8-be72-4702-9347-5bf4a1c0ba5f"
      },
      "source": [
        " Our Sensor1 and Sensor2 is showing highly correlation we are supposed to drop one but I did combine them to find the total sensor so for now I am going to keep them."
      ]
    },
    {
      "cell_type": "code",
      "execution_count": 27,
      "id": "a33fb339-1233-49e8-ab8c-09da17def473",
      "metadata": {
        "id": "a33fb339-1233-49e8-ab8c-09da17def473"
      },
      "outputs": [],
      "source": [
        "X_train,X_test,y_train,y_test = train_test_split(X,y,random_state= 42, test_size=0.02)"
      ]
    },
    {
      "cell_type": "code",
      "execution_count": 28,
      "id": "2628f742-1052-4b5e-8c97-a7b2556e2b73",
      "metadata": {
        "id": "2628f742-1052-4b5e-8c97-a7b2556e2b73",
        "colab": {
          "base_uri": "https://localhost:8080/"
        },
        "outputId": "dd3d89ee-9ddb-4df0-9e46-1026a2dc865a"
      },
      "outputs": [
        {
          "output_type": "execute_result",
          "data": {
            "text/plain": [
              "LGBMClassifier(colsample_bytree=0.9064439932687255, max_depth=3,\n",
              "               min_child_samples=21, n_estimators=1040, num_leaves=450,\n",
              "               random_state=0, reg_lambda=0.16661201237472856,\n",
              "               subsample=0.5564713817638391)"
            ]
          },
          "metadata": {},
          "execution_count": 28
        }
      ],
      "source": [
        "# # lgb_params = {\n",
        "#     \"objective\" : \"binary\",\n",
        "#     \"metric\" : \"accuracy\",\n",
        "#     \"boosting\": 'gbdt',\n",
        "#     # #\"max_depth\" : -1,\n",
        "#     # \"num_leaves\" : 13,\n",
        "#     # \"learning_rate\" : 0.01,\n",
        "#     # \"bagging_freq\": 5,\n",
        "#     # \"bagging_fraction\" : 0.4,\n",
        "#     # \"feature_fraction\" : 0.05,\n",
        "#     # \"min_data_in_leaf\": 80,\n",
        "#     # \"min_sum_heassian_in_leaf\": 10,\n",
        "#     # \"tree_learner\": \"serial\",\n",
        "#     # \"boost_from_average\": \"false\",\n",
        "#     #\"lambda_l1\" : 5,\n",
        "#     #\"lambda_l2\" : 5,\n",
        "#     \"bagging_seed\" : random_state,\n",
        "#     \"verbosity\" : 1,\n",
        "#     \"seed\": random_state\n",
        "# }\n",
        "\n",
        "\n",
        "\n",
        "params = {'n_estimators': 1040, 'max_depth': 3, 'reg_lambda': 0.16661201237472856, \n",
        "          'colsample_bytree': 0.9064439932687255, 'num_leaves': 450, \n",
        "          'min_child_samples': 21, 'subsample': 0.5564713817638391, 'random_state':0}\n",
        "lgb= LGBMClassifier(**params)\n",
        "\n",
        "\n",
        "\n",
        "\n",
        "# lgb = LGBMClassifier(\n",
        "#     objective='binary',learning_rate=0.1, class_weight='balanced',\n",
        "#     boosting_type ='gbdt',\n",
        "#     bagging_seed = random_state,\n",
        "#     importance_type='gain',\n",
        "#     metric = \"accuracy\",\n",
        "# )\n",
        "                    \n",
        "lgb.fit(X_train,y_train)"
      ]
    },
    {
      "cell_type": "code",
      "execution_count": 29,
      "id": "356e49fb-c9dc-4f80-bf4c-b9f004135197",
      "metadata": {
        "id": "356e49fb-c9dc-4f80-bf4c-b9f004135197"
      },
      "outputs": [],
      "source": [
        "y_pred = lgb.predict(X_test)"
      ]
    },
    {
      "cell_type": "code",
      "execution_count": 30,
      "id": "9b5058cb-d082-4352-a9ad-2b1c67b7fcc6",
      "metadata": {
        "id": "9b5058cb-d082-4352-a9ad-2b1c67b7fcc6",
        "colab": {
          "base_uri": "https://localhost:8080/"
        },
        "outputId": "d5c9ad65-7817-468f-d69a-a46bad040079"
      },
      "outputs": [
        {
          "output_type": "execute_result",
          "data": {
            "text/plain": [
              "0.9470053835800808"
            ]
          },
          "metadata": {},
          "execution_count": 30
        }
      ],
      "source": [
        "accuracy_score(y_test,y_pred)"
      ]
    },
    {
      "cell_type": "code",
      "execution_count": 31,
      "id": "f555f940-6ef5-4e44-aa1e-77e76dd202f3",
      "metadata": {
        "id": "f555f940-6ef5-4e44-aa1e-77e76dd202f3",
        "colab": {
          "base_uri": "https://localhost:8080/"
        },
        "outputId": "77d42dad-9e42-4bed-990a-aca165faed8a"
      },
      "outputs": [
        {
          "output_type": "stream",
          "name": "stdout",
          "text": [
            "Training Accuracy: 0.949\n",
            "Test Accuracy: 0.947\n"
          ]
        }
      ],
      "source": [
        "print(f\"Training Accuracy: {lgb.score(X_train, y_train):0.3f}\")\n",
        "print(f\"Test Accuracy: {lgb.score(X_test, y_test):0.3f}\")"
      ]
    },
    {
      "cell_type": "code",
      "execution_count": 32,
      "id": "9d8e76e8-3989-4207-a5e9-088a343c9693",
      "metadata": {
        "id": "9d8e76e8-3989-4207-a5e9-088a343c9693"
      },
      "outputs": [],
      "source": [
        "pred_lgb = lgb.predict(test)\n",
        "sub = pd.DataFrame({'ID':ss,'Offset_fault':pred_lgb})\n",
        "sub.to_csv('lgb.csv',index=False)"
      ]
    },
    {
      "cell_type": "code",
      "execution_count": 33,
      "id": "e5bd087c-4ee2-4ff2-8117-b3b7830e2cd3",
      "metadata": {
        "id": "e5bd087c-4ee2-4ff2-8117-b3b7830e2cd3",
        "colab": {
          "base_uri": "https://localhost:8080/"
        },
        "outputId": "8c5a3673-c7f8-47a2-9c7e-6dc0c134bdc5"
      },
      "outputs": [
        {
          "output_type": "stream",
          "name": "stdout",
          "text": [
            "Accuracy score on the X_test is: 0.9454912516823688\n"
          ]
        }
      ],
      "source": [
        "lgb = LGBMClassifier()\n",
        "lgb.fit(X_train.values, y_train)\n",
        "y_pred = lgb.predict(X_test)\n",
        "print(f'Accuracy score on the X_test is: {accuracy_score(y_test, y_pred)}')"
      ]
    },
    {
      "cell_type": "code",
      "execution_count": 34,
      "id": "ff2a7082-15da-41d8-b294-6011994178be",
      "metadata": {
        "id": "ff2a7082-15da-41d8-b294-6011994178be",
        "colab": {
          "base_uri": "https://localhost:8080/",
          "height": 626
        },
        "outputId": "9e29ed7d-84bf-44ac-f13a-8468df8553ae"
      },
      "outputs": [
        {
          "output_type": "display_data",
          "data": {
            "text/plain": [
              "<Figure size 720x720 with 1 Axes>"
            ],
            "image/png": "[encoded data removed]"
          },
          "metadata": {
            "needs_background": "light"
          }
        }
      ],
      "source": [
        "# Feature importance\n",
        "impo_df = pd.DataFrame({'feature': X.columns, 'importance': lgb.feature_importances_}).set_index('feature').sort_values(by = 'importance', ascending = False)\n",
        "impo_df = impo_df[:13].sort_values(by = 'importance', ascending = True)\n",
        "impo_df.plot(kind = 'barh', figsize = (10, 10), color = 'purple')\n",
        "plt.legend(loc = 'center right')\n",
        "plt.title('Bar chart showing feature importance', color = 'indigo', fontsize = 14)\n",
        "plt.xlabel('Features', fontsize = 12, color = 'indigo')\n",
        "plt.show()"
      ]
    },
    {
      "cell_type": "code",
      "execution_count": 35,
      "id": "8f4450ae-267b-45fe-af94-6841ed503e2a",
      "metadata": {
        "id": "8f4450ae-267b-45fe-af94-6841ed503e2a",
        "colab": {
          "base_uri": "https://localhost:8080/"
        },
        "outputId": "7dd8c619-0879-4d6b-fd79-0fc690ee0f3d"
      },
      "outputs": [
        {
          "output_type": "execute_result",
          "data": {
            "text/plain": [
              "['Sensor1_PM2.5',\n",
              " 'Sensor2_PM2.5',\n",
              " 'Temperature',\n",
              " 'Relative_Humidity',\n",
              " 'Datetime_day',\n",
              " 'Datetime_month',\n",
              " 'Datetime_year',\n",
              " 'Datetime_hour',\n",
              " 'Datetime_minute',\n",
              " 'Datetime_dayofweek',\n",
              " 'is_morning',\n",
              " 'is_afternoon',\n",
              " 'is_evening',\n",
              " 'is_night',\n",
              " 'NaN_row',\n",
              " 'std',\n",
              " 'AverageTemperature',\n",
              " 'AverageHumidity',\n",
              " 'Total_sensor']"
            ]
          },
          "metadata": {},
          "execution_count": 35
        }
      ],
      "source": [
        "X.columns.to_list()"
      ]
    },
    {
      "cell_type": "code",
      "execution_count": 36,
      "id": "a006fac0-7579-45cb-a26d-b99b02956bb6",
      "metadata": {
        "id": "a006fac0-7579-45cb-a26d-b99b02956bb6"
      },
      "outputs": [],
      "source": [
        "to_drop = ['NaN_row','Datetime_year']\n",
        "test_df = test.drop(to_drop,axis=1)"
      ]
    },
    {
      "cell_type": "markdown",
      "id": "79b171ab-fc80-4338-9e81-23c4fce153af",
      "metadata": {
        "id": "79b171ab-fc80-4338-9e81-23c4fce153af"
      },
      "source": [
        "Now let's try to use stratify so make sure data label is well distributed"
      ]
    },
    {
      "cell_type": "code",
      "execution_count": 37,
      "id": "411a6d09-afc4-4042-86c5-3acba8743d28",
      "metadata": {
        "id": "411a6d09-afc4-4042-86c5-3acba8743d28"
      },
      "outputs": [],
      "source": [
        "X_train,X_test,y_train,y_test = train_test_split(X.drop(to_drop,axis=1), y, random_state=42, test_size=0.05,stratify=y)"
      ]
    },
    {
      "cell_type": "markdown",
      "source": [
        "# LightGBM algorithm"
      ],
      "metadata": {
        "id": "BkZhj9LVzn_s"
      },
      "id": "BkZhj9LVzn_s"
    },
    {
      "cell_type": "code",
      "execution_count": 38,
      "id": "19cb3ecb-ad99-4aaf-8683-403967296dc7",
      "metadata": {
        "id": "19cb3ecb-ad99-4aaf-8683-403967296dc7",
        "colab": {
          "base_uri": "https://localhost:8080/"
        },
        "outputId": "6c377ca3-947d-4e39-f4ed-f12aa1c4630f"
      },
      "outputs": [
        {
          "output_type": "stream",
          "name": "stdout",
          "text": [
            "Accuracy score on the X_test is: 0.9489871458375395\n"
          ]
        }
      ],
      "source": [
        "lgb = LGBMClassifier(objective='binary',learning_rate=0.1,class_weight='balanced')\n",
        "lgb.fit(X_train.values, y_train)\n",
        "y_pred = lgb.predict(X_test)\n",
        "print(f'Accuracy score on the X_test is: {accuracy_score(y_test, y_pred)}')"
      ]
    },
    {
      "cell_type": "code",
      "execution_count": 39,
      "id": "08cafe90-4bca-45f2-a64a-01e2da7d2d1e",
      "metadata": {
        "id": "08cafe90-4bca-45f2-a64a-01e2da7d2d1e"
      },
      "outputs": [],
      "source": [
        "pred_lgb = lgb.predict(test_df)\n",
        "sub = pd.DataFrame({'ID':ss,'Offset_fault':pred_lgb})\n",
        "sub.to_csv('lgb_model.csv',index=False)"
      ]
    },
    {
      "cell_type": "markdown",
      "source": [
        "## Random Forest Classifier"
      ],
      "metadata": {
        "id": "3Wq6-4X4ztS1"
      },
      "id": "3Wq6-4X4ztS1"
    },
    {
      "cell_type": "code",
      "source": [
        "rf = RandomForestClassifier()\n",
        "rf.fit(X_train,y_train)\n",
        "\n",
        "preds = rf.predict(X_test)\n"
      ],
      "metadata": {
        "id": "BKFV3s_vykMM"
      },
      "id": "BKFV3s_vykMM",
      "execution_count": 41,
      "outputs": []
    },
    {
      "cell_type": "code",
      "source": [
        "print(f\"Training Accuracy: {rf.score(X_train, y_train):0.3f}\")\n",
        "print(f\"Test Accuracy: {rf.score(X_test, y_test):0.3f}\")"
      ],
      "metadata": {
        "colab": {
          "base_uri": "https://localhost:8080/"
        },
        "id": "dzRvIZFgykIz",
        "outputId": "b08baf2e-c349-4158-d9f3-4bd121859522"
      },
      "id": "dzRvIZFgykIz",
      "execution_count": 43,
      "outputs": [
        {
          "output_type": "stream",
          "name": "stdout",
          "text": [
            "Training Accuracy: 1.000\n",
            "Test Accuracy: 0.977\n"
          ]
        }
      ]
    },
    {
      "cell_type": "markdown",
      "source": [
        "## Histogram gradient Boosting\n"
      ],
      "metadata": {
        "id": "PAXXNM3pz0Ta"
      },
      "id": "PAXXNM3pz0Ta"
    },
    {
      "cell_type": "code",
      "source": [
        "hgb = HistGradientBoostingClassifier()\n",
        "hgb.fit(X_train, y_train)\n",
        "\n",
        "preds = hgb.predict(X_test)\n",
        "\n",
        "print(f\"Training Accuracy: {hgb.score(X_train, y_train):0.3f}\")\n",
        "print(f\"Test Accuracy: {hgb.score(X_test, y_test):0.3f}\")"
      ],
      "metadata": {
        "colab": {
          "base_uri": "https://localhost:8080/"
        },
        "id": "KrJWbsn9ykFk",
        "outputId": "2cdf8537-c9d0-45bd-aa0f-28de38c08ac0"
      },
      "id": "KrJWbsn9ykFk",
      "execution_count": 44,
      "outputs": [
        {
          "output_type": "stream",
          "name": "stdout",
          "text": [
            "Training Accuracy: 0.948\n",
            "Test Accuracy: 0.951\n"
          ]
        }
      ]
    },
    {
      "cell_type": "code",
      "source": [
        ""
      ],
      "metadata": {
        "id": "NKeF-OWbyj9O"
      },
      "id": "NKeF-OWbyj9O",
      "execution_count": null,
      "outputs": []
    },
    {
      "cell_type": "code",
      "source": [
        ""
      ],
      "metadata": {
        "id": "MsHiAr2wyjpg"
      },
      "id": "MsHiAr2wyjpg",
      "execution_count": null,
      "outputs": []
    }
  ],
  "metadata": {
    "kernelspec": {
      "display_name": "Python 3 (ipykernel)",
      "language": "python",
      "name": "python3"
    },
    "language_info": {
      "codemirror_mode": {
        "name": "ipython",
        "version": 3
      },
      "file_extension": ".py",
      "mimetype": "text/x-python",
      "name": "python",
      "nbconvert_exporter": "python",
      "pygments_lexer": "ipython3",
      "version": "3.9.5"
    },
    "colab": {
      "name": "final_notebook.ipynb",
      "provenance": [],
      "collapsed_sections": [
        "6e732479-55ed-4cb8-af10-0a830232f971"
      ],
      "include_colab_link": true
    }
  },
  "nbformat": 4,
  "nbformat_minor": 5
}